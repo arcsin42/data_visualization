{
  "nbformat": 4,
  "nbformat_minor": 0,
  "metadata": {
    "colab": {
      "name": "layered_tree_draw.ipynb",
      "provenance": [],
      "collapsed_sections": [],
      "authorship_tag": "ABX9TyM/oGNTC93Oz4Cmpx8OY4a2",
      "include_colab_link": true
    },
    "kernelspec": {
      "name": "python3",
      "display_name": "Python 3"
    },
    "language_info": {
      "name": "python"
    }
  },
  "cells": [
    {
      "cell_type": "markdown",
      "metadata": {
        "id": "view-in-github",
        "colab_type": "text"
      },
      "source": [
        "<a href=\"https://colab.research.google.com/github/arcsin42/data_visualization/blob/main/layered_tree_draw.ipynb\" target=\"_parent\"><img src=\"https://colab.research.google.com/assets/colab-badge.svg\" alt=\"Open In Colab\"/></a>"
      ]
    },
    {
      "cell_type": "markdown",
      "metadata": {
        "id": "j-Nf0mW7XHmj"
      },
      "source": [
        "Клевцов Тимур, М05-013д   \n",
        "Визуализация дерева алгоритмом Layered-Tree-Draw c сжатием"
      ]
    },
    {
      "cell_type": "code",
      "metadata": {
        "id": "rMI41Y8P0bWp"
      },
      "source": [
        "import math\n",
        "import plotly\n",
        "import plotly.express as px\n",
        "import plotly.graph_objects as go\n",
        "import numpy as np\n",
        "import networkx as nx\n",
        "from itertools import *"
      ],
      "execution_count": null,
      "outputs": []
    },
    {
      "cell_type": "markdown",
      "metadata": {
        "id": "H_AuH9EAXoN1"
      },
      "source": [
        "Прописать имя файла с графом в name. Еще в кавычках есть граф с лекции"
      ]
    },
    {
      "cell_type": "code",
      "metadata": {
        "id": "I3aDAoBgrnvG"
      },
      "source": [
        "name = \"tree-84n.xml\"\n",
        "G = nx.read_graphml(\"./%s\" % name)\n",
        "graph = []\n",
        "infty = 10000\n",
        "mark_v = 0  #глобальный счетчик для маркировки\n",
        "\n",
        "'''\n",
        "G = nx.DiGraph()\n",
        "G.add_nodes_from([i for i in range(11)])\n",
        "edges = [\n",
        "  (0,6), (0,1),\n",
        "  (1,3), (1,2),\n",
        "  (3,4), (3,5),\n",
        "  (6,10),\n",
        "  (10,7),\n",
        "  (7,9), (7,8)\n",
        "]\n",
        "G.add_edges_from(edges)\n",
        "'''\n",
        "\n",
        "class my_node():\n",
        "  label = infty  #означает непомеченную вершину\n",
        "  hight = 0 #расстояние до корня\n",
        "  x = 0\n",
        "  y = 0\n",
        "  childs = []\n",
        "  parents = []\n",
        "  def __init__(self, label, h, x, y, childs, parents):\n",
        "    self.label = label\n",
        "    self.x = x\n",
        "    self.y = y\n",
        "    self.childs = childs\n",
        "    self.parents = parents\n",
        "  def __repr__(self):\n",
        "    s = \"({}, hight={}, position=({},{}), parents={}, childs={})\".format(\n",
        "        self.label, self.hight, self.x, self.y, self.parents, self.childs)\n",
        "    return s \n",
        "\n",
        "def create_graph():\n",
        "  nodes_dict = {}\n",
        "  number = 0\n",
        "  for node in G.nodes():\n",
        "    nodes_dict[node] = number\n",
        "    graph.append(my_node(infty, 0, 0, 0, [], []))\n",
        "    number += 1\n",
        "  for edge in G.edges():\n",
        "    v0 = nodes_dict[edge[0]]\n",
        "    v1 = nodes_dict[edge[1]]\n",
        "    graph[v0].childs.append(v1)\n",
        "    graph[v1].parents.append(v0)\n",
        "  return\n",
        "\n",
        "def order_reversal(v, h):\n",
        "  global mark_v\n",
        "  if len(graph[v].childs) == 0:\n",
        "    graph[v].label = mark_v\n",
        "    graph[v].hight = h\n",
        "    mark_v += 1\n",
        "    return\n",
        "  order_reversal(graph[v].childs[0], h + 1)\n",
        "  graph[v].label = mark_v\n",
        "  graph[v].hight = h\n",
        "  mark_v += 1\n",
        "  if len(graph[v].childs) == 2:\n",
        "    order_reversal(graph[v].childs[1], h + 1)\n",
        "  return\n",
        "\n",
        "def distance(left_side, right_side):\n",
        "  l = min(len(left_side), len(right_side))\n",
        "  internal = left_side[:l] - right_side[:l] + 1\n",
        "  return internal.max()\n",
        "\n",
        "def center_counting(left, right):\n",
        "  if left == right:\n",
        "    return 1\n",
        "  c = (left - right) / 2\n",
        "  return int(np.sign(c) * math.ceil(abs(c)))\n",
        "\n",
        "def archiving(v):  #рекурсивное сжатие дерева по Х\n",
        "  if len(graph[v].childs) == 0:\n",
        "    #print(v, \"[0] [0]\")\n",
        "    return np.array([0]), np.array([0])\n",
        "  if len(graph[v].childs) == 1:\n",
        "    left, right = archiving(graph[v].childs[0])\n",
        "    right_L = max(right.max(), 0)\n",
        "    left_L = abs(min(left.min(), 0))\n",
        "    shift = center_counting(left_L, right_L)\n",
        "    graph[graph[v].childs[0]].x = shift\n",
        "    left, right = left + shift, right + shift\n",
        "    left = np.concatenate([[0], left])\n",
        "    right = np.concatenate([[0], right])\n",
        "    #print(v, left, right)\n",
        "    return left, right\n",
        "  if len(graph[v].childs) == 2:\n",
        "    left_left, left_right = archiving(graph[v].childs[0]) \n",
        "    right_left, right_right = archiving(graph[v].childs[1])\n",
        "    L = distance(left_right, right_left)\n",
        "    if L == 1:\n",
        "      L = 2\n",
        "    shift_right, shift_left = L // 2, - L + L // 2\n",
        "    graph[graph[v].childs[0]].x = shift_left\n",
        "    graph[graph[v].childs[1]].x = shift_right\n",
        "    left_left += shift_left\n",
        "    left_right += shift_left\n",
        "    right_right += shift_right\n",
        "    right_left += shift_right\n",
        "    l = min(len(right_right), len(left_left))\n",
        "    left = np.concatenate([[0], left_left[:], right_left[l:]])\n",
        "    right = np.concatenate([[0], right_right[:], left_right[l:]])\n",
        "    #print(v, left_left, left_right, right_left, right_right, left, right)\n",
        "    return left, right\n",
        "  return -1\n",
        "\n",
        "def global_position(v):\n",
        "  for child in graph[v].childs:\n",
        "    graph[child].x += graph[v].x\n",
        "    global_position(child)\n",
        "  return\n",
        "\n",
        "create_graph()  #создаем граф\n",
        "order_reversal(0, 0)  #нумеруем вершины\n",
        "\n",
        "left, right = archiving(0) #сжимаем дерево\n",
        "global_position(0)  #считаем абсолютные координаты"
      ],
      "execution_count": null,
      "outputs": []
    },
    {
      "cell_type": "markdown",
      "metadata": {
        "id": "MqccPt60XycC"
      },
      "source": [
        "Отрисовка сжатого дерева"
      ]
    },
    {
      "cell_type": "code",
      "metadata": {
        "id": "xjietY9jske3"
      },
      "source": [
        "fig = go.Figure()\n",
        "\n",
        "for node in graph:\n",
        "  for child in node.childs:\n",
        "    v0 = node\n",
        "    v1 = graph[child]\n",
        "    fig.add_trace(go.Scatter(\n",
        "        x=[v0.x, v1.x],\n",
        "        y=[-v0.hight, -v1.hight],\n",
        "        line=dict(color='green', width=2)\n",
        "    ))\n",
        "\n",
        "for node in graph:\n",
        "  fig.add_trace(go.Scatter(\n",
        "      x=[node.x],\n",
        "      y=[-node.hight],\n",
        "      mode='markers',\n",
        "      marker=dict(size=[10], color='black'),\n",
        "  ))\n",
        "\n",
        "fig.update_layout(  \n",
        "    autosize=True,\n",
        "    width=1000,\n",
        "    height=500,\n",
        "    margin=dict(l=50, r=50, b=50, t=50, pad=4),\n",
        "    showlegend = False\n",
        ")\n",
        "\n",
        "print(\"Ширина дерева = \", right.max() - left.min())\n",
        "fig.show()"
      ],
      "execution_count": null,
      "outputs": []
    },
    {
      "cell_type": "markdown",
      "metadata": {
        "id": "zHigmREvYDHa"
      },
      "source": [
        "Отрисовка несжатого дерева"
      ]
    },
    {
      "cell_type": "code",
      "metadata": {
        "id": "mGTlfteGWlWx"
      },
      "source": [
        "fig_2 = go.Figure()\n",
        "\n",
        "for node in graph:\n",
        "  for child in node.childs:\n",
        "    v0 = node\n",
        "    v1 = graph[child]\n",
        "    fig_2.add_trace(go.Scatter(\n",
        "        x=[v0.label, v1.label],\n",
        "        y=[-v0.hight, -v1.hight],\n",
        "        line=dict(color='green', width=2)\n",
        "    ))\n",
        "\n",
        "for node in graph:\n",
        "  fig_2.add_trace(go.Scatter(\n",
        "      x=[node.label],\n",
        "      y=[-node.hight],\n",
        "      mode='markers',\n",
        "      marker=dict(size=[10], color='black'),\n",
        "  ))\n",
        "\n",
        "fig_2.update_layout(  \n",
        "    autosize=True,\n",
        "    width=1000,\n",
        "    height=500,\n",
        "    margin=dict(l=50, r=50, b=50, t=50, pad=4),\n",
        "    showlegend = False\n",
        ")\n",
        "w = max([node.label for node in graph]) - min([node.label for node in graph])\n",
        "print(\"Ширина дерева = \", w)\n",
        "fig_2.show()"
      ],
      "execution_count": null,
      "outputs": []
    }
  ]
}