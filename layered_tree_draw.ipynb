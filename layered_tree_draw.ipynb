{
  "nbformat": 4,
  "nbformat_minor": 0,
  "metadata": {
    "colab": {
      "name": "layered_tree_draw.ipynb",
      "provenance": [],
      "collapsed_sections": [],
      "authorship_tag": "ABX9TyM/oGNTC93Oz4Cmpx8OY4a2",
      "include_colab_link": true
    },
    "kernelspec": {
      "name": "python3",
      "display_name": "Python 3"
    },
    "language_info": {
      "name": "python"
    }
  },
  "cells": [
    {
      "cell_type": "markdown",
      "metadata": {
        "id": "view-in-github",
        "colab_type": "text"
      },
      "source": [
        "<a href=\"https://colab.research.google.com/github/arcsin42/data_visualization/blob/main/layered_tree_draw.ipynb\" target=\"_parent\"><img src=\"https://colab.research.google.com/assets/colab-badge.svg\" alt=\"Open In Colab\"/></a>"
      ]
    },
    {
      "cell_type": "markdown",
      "metadata": {
        "id": "j-Nf0mW7XHmj"
      },
      "source": [
        "Клевцов Тимур, М05-013д   \n",
        "Визуализация дерева алгоритмом Layered-Tree-Draw c сжатием"
      ]
    },
    {
      "cell_type": "code",
      "metadata": {
        "id": "rMI41Y8P0bWp"
      },
      "source": [
        "import math\n",
        "import plotly\n",
        "import plotly.express as px\n",
        "import plotly.graph_objects as go\n",
        "import numpy as np\n",
        "import networkx as nx\n",
        "from itertools import *"
      ],
      "execution_count": null,
      "outputs": []
    },
    {
      "cell_type": "markdown",
      "metadata": {
        "id": "H_AuH9EAXoN1"
      },
      "source": [
        "Прописать имя файла с графом в name. Еще в кавычках есть граф с лекции"
      ]
    },
    {
      "cell_type": "code",
      "metadata": {
        "id": "I3aDAoBgrnvG"
      },
      "source": [
        "name = \"tree-84n.xml\"\n",
        "G = nx.read_graphml(\"./%s\" % name)\n",
        "graph = []\n",
        "infty = 10000\n",
        "mark_v = 0  #глобальный счетчик для маркировки\n",
        "\n",
        "'''\n",
        "G = nx.DiGraph()\n",
        "G.add_nodes_from([i for i in range(11)])\n",
        "edges = [\n",
        "  (0,6), (0,1),\n",
        "  (1,3), (1,2),\n",
        "  (3,4), (3,5),\n",
        "  (6,10),\n",
        "  (10,7),\n",
        "  (7,9), (7,8)\n",
        "]\n",
        "G.add_edges_from(edges)\n",
        "'''\n",
        "\n",
        "class my_node():\n",
        "  label = infty  #означает непомеченную вершину\n",
        "  hight = 0 #расстояние до корня\n",
        "  x = 0\n",
        "  y = 0\n",
        "  childs = []\n",
        "  parents = []\n",
        "  def __init__(self, label, h, x, y, childs, parents):\n",
        "    self.label = label\n",
        "    self.x = x\n",
        "    self.y = y\n",
        "    self.childs = childs\n",
        "    self.parents = parents\n",
        "  def __repr__(self):\n",
        "    s = \"({}, hight={}, position=({},{}), parents={}, childs={})\".format(\n",
        "        self.label, self.hight, self.x, self.y, self.parents, self.childs)\n",
        "    return s \n",
        "\n",
        "def create_graph():\n",
        "  nodes_dict = {}\n",
        "  number = 0\n",
        "  for node in G.nodes():\n",
        "    nodes_dict[node] = number\n",
        "    graph.append(my_node(infty, 0, 0, 0, [], []))\n",
        "    number += 1\n",
        "  for edge in G.edges():\n",
        "    v0 = nodes_dict[edge[0]]\n",
        "    v1 = nodes_dict[edge[1]]\n",
        "    graph[v0].childs.append(v1)\n",
        "    graph[v1].parents.append(v0)\n",
        "  return\n",
        "\n",
        "def order_reversal(v, h):\n",
        "  global mark_v\n",
        "  if len(graph[v].childs) == 0:\n",
        "    graph[v].label = mark_v\n",
        "    graph[v].hight = h\n",
        "    mark_v += 1\n",
        "    return\n",
        "  order_reversal(graph[v].childs[0], h + 1)\n",
        "  graph[v].label = mark_v\n",
        "  graph[v].hight = h\n",
        "  mark_v += 1\n",
        "  if len(graph[v].childs) == 2:\n",
        "    order_reversal(graph[v].childs[1], h + 1)\n",
        "  return\n",
        "\n",
        "def distance(left_side, right_side):\n",
        "  l = min(len(left_side), len(right_side))\n",
        "  internal = left_side[:l] - right_side[:l] + 1\n",
        "  return internal.max()\n",
        "\n",
        "def center_counting(left, right):\n",
        "  if left == right:\n",
        "    return 1\n",
        "  c = (left - right) / 2\n",
        "  return int(np.sign(c) * math.ceil(abs(c)))\n",
        "\n",
        "def archiving(v):  #рекурсивное сжатие дерева по Х\n",
        "  if len(graph[v].childs) == 0:\n",
        "    #print(v, \"[0] [0]\")\n",
        "    return np.array([0]), np.array([0])\n",
        "  if len(graph[v].childs) == 1:\n",
        "    left, right = archiving(graph[v].childs[0])\n",
        "    right_L = max(right.max(), 0)\n",
        "    left_L = abs(min(left.min(), 0))\n",
        "    shift = center_counting(left_L, right_L)\n",
        "    graph[graph[v].childs[0]].x = shift\n",
        "    left, right = left + shift, right + shift\n",
        "    left = np.concatenate([[0], left])\n",
        "    right = np.concatenate([[0], right])\n",
        "    #print(v, left, right)\n",
        "    return left, right\n",
        "  if len(graph[v].childs) == 2:\n",
        "    left_left, left_right = archiving(graph[v].childs[0]) \n",
        "    right_left, right_right = archiving(graph[v].childs[1])\n",
        "    L = distance(left_right, right_left)\n",
        "    if L == 1:\n",
        "      L = 2\n",
        "    shift_right, shift_left = L // 2, - L + L // 2\n",
        "    graph[graph[v].childs[0]].x = shift_left\n",
        "    graph[graph[v].childs[1]].x = shift_right\n",
        "    left_left += shift_left\n",
        "    left_right += shift_left\n",
        "    right_right += shift_right\n",
        "    right_left += shift_right\n",
        "    l = min(len(right_right), len(left_left))\n",
        "    left = np.concatenate([[0], left_left[:], right_left[l:]])\n",
        "    right = np.concatenate([[0], right_right[:], left_right[l:]])\n",
        "    #print(v, left_left, left_right, right_left, right_right, left, right)\n",
        "    return left, right\n",
        "  return -1\n",
        "\n",
        "def global_position(v):\n",
        "  for child in graph[v].childs:\n",
        "    graph[child].x += graph[v].x\n",
        "    global_position(child)\n",
        "  return\n",
        "\n",
        "create_graph()  #создаем граф\n",
        "order_reversal(0, 0)  #нумеруем вершины\n",
        "\n",
        "left, right = archiving(0) #сжимаем дерево\n",
        "global_position(0)  #считаем абсолютные координаты"
      ],
      "execution_count": null,
      "outputs": []
    },
    {
      "cell_type": "markdown",
      "metadata": {
        "id": "MqccPt60XycC"
      },
      "source": [
        "Отрисовка сжатого дерева"
      ]
    },
    {
      "cell_type": "code",
      "metadata": {
        "colab": {
          "base_uri": "https://localhost:8080/",
          "height": 534
        },
        "id": "xjietY9jske3",
        "outputId": "4d215282-ca8d-479f-cc64-ff33c4d1f71a"
      },
      "source": [
        "fig = go.Figure()\n",
        "\n",
        "for node in graph:\n",
        "  for child in node.childs:\n",
        "    v0 = node\n",
        "    v1 = graph[child]\n",
        "    fig.add_trace(go.Scatter(\n",
        "        x=[v0.x, v1.x],\n",
        "        y=[-v0.hight, -v1.hight],\n",
        "        line=dict(color='green', width=2)\n",
        "    ))\n",
        "\n",
        "for node in graph:\n",
        "  fig.add_trace(go.Scatter(\n",
        "      x=[node.x],\n",
        "      y=[-node.hight],\n",
        "      mode='markers',\n",
        "      marker=dict(size=[10], color='black'),\n",
        "  ))\n",
        "\n",
        "fig.update_layout(  \n",
        "    autosize=True,\n",
        "    width=1000,\n",
        "    height=500,\n",
        "    margin=dict(l=50, r=50, b=50, t=50, pad=4),\n",
        "    showlegend = False\n",
        ")\n",
        "\n",
        "print(\"Ширина дерева = \", right.max() - left.min())\n",
        "fig.show()"
      ],
      "execution_count": null,
      "outputs": [
        {
          "output_type": "stream",
          "text": [
            "Ширина дерева =  29\n"
          ],
          "name": "stdout"
        },
        {
          "output_type": "display_data",
          "data": {
            "text/html": [
              "<html>\n",
              "<head><meta charset=\"utf-8\" /></head>\n",
              "<body>\n",
              "    <div>\n",
              "            <script src=\"https://cdnjs.cloudflare.com/ajax/libs/mathjax/2.7.5/MathJax.js?config=TeX-AMS-MML_SVG\"></script><script type=\"text/javascript\">if (window.MathJax) {MathJax.Hub.Config({SVG: {font: \"STIX-Web\"}});}</script>\n",
              "                <script type=\"text/javascript\">window.PlotlyConfig = {MathJaxConfig: 'local'};</script>\n",
              "        <script src=\"https://cdn.plot.ly/plotly-latest.min.js\"></script>    \n",
              "            <div id=\"ad022f7c-fbf1-45cb-8172-90bed2cd15be\" class=\"plotly-graph-div\" style=\"height:500px; width:1000px;\"></div>\n",
              "            <script type=\"text/javascript\">\n",
              "                \n",
              "                    window.PLOTLYENV=window.PLOTLYENV || {};\n",
              "                    \n",
              "                if (document.getElementById(\"ad022f7c-fbf1-45cb-8172-90bed2cd15be\")) {\n",
              "                    Plotly.newPlot(\n",
              "                        'ad022f7c-fbf1-45cb-8172-90bed2cd15be',\n",
              "                        [{\"line\": {\"color\": \"green\", \"width\": 2}, \"type\": \"scatter\", \"x\": [0, -1], \"y\": [0, -1]}, {\"line\": {\"color\": \"green\", \"width\": 2}, \"type\": \"scatter\", \"x\": [0, 1], \"y\": [0, -1]}, {\"line\": {\"color\": \"green\", \"width\": 2}, \"type\": \"scatter\", \"x\": [1, -3], \"y\": [-1, -2]}, {\"line\": {\"color\": \"green\", \"width\": 2}, \"type\": \"scatter\", \"x\": [1, 4], \"y\": [-1, -2]}, {\"line\": {\"color\": \"green\", \"width\": 2}, \"type\": \"scatter\", \"x\": [-3, -7], \"y\": [-2, -3]}, {\"line\": {\"color\": \"green\", \"width\": 2}, \"type\": \"scatter\", \"x\": [-3, 1], \"y\": [-2, -3]}, {\"line\": {\"color\": \"green\", \"width\": 2}, \"type\": \"scatter\", \"x\": [-7, -9], \"y\": [-3, -4]}, {\"line\": {\"color\": \"green\", \"width\": 2}, \"type\": \"scatter\", \"x\": [-7, -6], \"y\": [-3, -4]}, {\"line\": {\"color\": \"green\", \"width\": 2}, \"type\": \"scatter\", \"x\": [-9, -10], \"y\": [-4, -5]}, {\"line\": {\"color\": \"green\", \"width\": 2}, \"type\": \"scatter\", \"x\": [-9, -8], \"y\": [-4, -5]}, {\"line\": {\"color\": \"green\", \"width\": 2}, \"type\": \"scatter\", \"x\": [-10, -14], \"y\": [-5, -6]}, {\"line\": {\"color\": \"green\", \"width\": 2}, \"type\": \"scatter\", \"x\": [-10, -7], \"y\": [-5, -6]}, {\"line\": {\"color\": \"green\", \"width\": 2}, \"type\": \"scatter\", \"x\": [-14, -16], \"y\": [-6, -7]}, {\"line\": {\"color\": \"green\", \"width\": 2}, \"type\": \"scatter\", \"x\": [-14, -13], \"y\": [-6, -7]}, {\"line\": {\"color\": \"green\", \"width\": 2}, \"type\": \"scatter\", \"x\": [-16, -15], \"y\": [-7, -8]}, {\"line\": {\"color\": \"green\", \"width\": 2}, \"type\": \"scatter\", \"x\": [-13, -14], \"y\": [-7, -8]}, {\"line\": {\"color\": \"green\", \"width\": 2}, \"type\": \"scatter\", \"x\": [-14, -13], \"y\": [-8, -9]}, {\"line\": {\"color\": \"green\", \"width\": 2}, \"type\": \"scatter\", \"x\": [-7, -10], \"y\": [-6, -7]}, {\"line\": {\"color\": \"green\", \"width\": 2}, \"type\": \"scatter\", \"x\": [-7, -5], \"y\": [-6, -7]}, {\"line\": {\"color\": \"green\", \"width\": 2}, \"type\": \"scatter\", \"x\": [-10, -11], \"y\": [-7, -8]}, {\"line\": {\"color\": \"green\", \"width\": 2}, \"type\": \"scatter\", \"x\": [-10, -9], \"y\": [-7, -8]}, {\"line\": {\"color\": \"green\", \"width\": 2}, \"type\": \"scatter\", \"x\": [-11, -12], \"y\": [-8, -9]}, {\"line\": {\"color\": \"green\", \"width\": 2}, \"type\": \"scatter\", \"x\": [-12, -11], \"y\": [-9, -10]}, {\"line\": {\"color\": \"green\", \"width\": 2}, \"type\": \"scatter\", \"x\": [-11, -12], \"y\": [-10, -11]}, {\"line\": {\"color\": \"green\", \"width\": 2}, \"type\": \"scatter\", \"x\": [-12, -11], \"y\": [-11, -12]}, {\"line\": {\"color\": \"green\", \"width\": 2}, \"type\": \"scatter\", \"x\": [-9, -8], \"y\": [-8, -9]}, {\"line\": {\"color\": \"green\", \"width\": 2}, \"type\": \"scatter\", \"x\": [-5, -6], \"y\": [-7, -8]}, {\"line\": {\"color\": \"green\", \"width\": 2}, \"type\": \"scatter\", \"x\": [-5, -4], \"y\": [-7, -8]}, {\"line\": {\"color\": \"green\", \"width\": 2}, \"type\": \"scatter\", \"x\": [-6, -7], \"y\": [-8, -9]}, {\"line\": {\"color\": \"green\", \"width\": 2}, \"type\": \"scatter\", \"x\": [-6, -5], \"y\": [-8, -9]}, {\"line\": {\"color\": \"green\", \"width\": 2}, \"type\": \"scatter\", \"x\": [-7, -6], \"y\": [-9, -10]}, {\"line\": {\"color\": \"green\", \"width\": 2}, \"type\": \"scatter\", \"x\": [-5, -4], \"y\": [-9, -10]}, {\"line\": {\"color\": \"green\", \"width\": 2}, \"type\": \"scatter\", \"x\": [-6, -7], \"y\": [-4, -5]}, {\"line\": {\"color\": \"green\", \"width\": 2}, \"type\": \"scatter\", \"x\": [-6, -5], \"y\": [-4, -5]}, {\"line\": {\"color\": \"green\", \"width\": 2}, \"type\": \"scatter\", \"x\": [-5, -4], \"y\": [-5, -6]}, {\"line\": {\"color\": \"green\", \"width\": 2}, \"type\": \"scatter\", \"x\": [1, -3], \"y\": [-3, -4]}, {\"line\": {\"color\": \"green\", \"width\": 2}, \"type\": \"scatter\", \"x\": [1, 5], \"y\": [-3, -4]}, {\"line\": {\"color\": \"green\", \"width\": 2}, \"type\": \"scatter\", \"x\": [-3, -4], \"y\": [-4, -5]}, {\"line\": {\"color\": \"green\", \"width\": 2}, \"type\": \"scatter\", \"x\": [-3, -2], \"y\": [-4, -5]}, {\"line\": {\"color\": \"green\", \"width\": 2}, \"type\": \"scatter\", \"x\": [-4, -3], \"y\": [-5, -6]}, {\"line\": {\"color\": \"green\", \"width\": 2}, \"type\": \"scatter\", \"x\": [-2, -1], \"y\": [-5, -6]}, {\"line\": {\"color\": \"green\", \"width\": 2}, \"type\": \"scatter\", \"x\": [5, 1], \"y\": [-4, -5]}, {\"line\": {\"color\": \"green\", \"width\": 2}, \"type\": \"scatter\", \"x\": [5, 8], \"y\": [-4, -5]}, {\"line\": {\"color\": \"green\", \"width\": 2}, \"type\": \"scatter\", \"x\": [1, 0], \"y\": [-5, -6]}, {\"line\": {\"color\": \"green\", \"width\": 2}, \"type\": \"scatter\", \"x\": [0, 1], \"y\": [-6, -7]}, {\"line\": {\"color\": \"green\", \"width\": 2}, \"type\": \"scatter\", \"x\": [8, 5], \"y\": [-5, -6]}, {\"line\": {\"color\": \"green\", \"width\": 2}, \"type\": \"scatter\", \"x\": [8, 11], \"y\": [-5, -6]}, {\"line\": {\"color\": \"green\", \"width\": 2}, \"type\": \"scatter\", \"x\": [5, 2], \"y\": [-6, -7]}, {\"line\": {\"color\": \"green\", \"width\": 2}, \"type\": \"scatter\", \"x\": [5, 8], \"y\": [-6, -7]}, {\"line\": {\"color\": \"green\", \"width\": 2}, \"type\": \"scatter\", \"x\": [2, 1], \"y\": [-7, -8]}, {\"line\": {\"color\": \"green\", \"width\": 2}, \"type\": \"scatter\", \"x\": [2, 3], \"y\": [-7, -8]}, {\"line\": {\"color\": \"green\", \"width\": 2}, \"type\": \"scatter\", \"x\": [1, 0], \"y\": [-8, -9]}, {\"line\": {\"color\": \"green\", \"width\": 2}, \"type\": \"scatter\", \"x\": [1, 2], \"y\": [-8, -9]}, {\"line\": {\"color\": \"green\", \"width\": 2}, \"type\": \"scatter\", \"x\": [0, 1], \"y\": [-9, -10]}, {\"line\": {\"color\": \"green\", \"width\": 2}, \"type\": \"scatter\", \"x\": [2, 3], \"y\": [-9, -10]}, {\"line\": {\"color\": \"green\", \"width\": 2}, \"type\": \"scatter\", \"x\": [3, 4], \"y\": [-8, -9]}, {\"line\": {\"color\": \"green\", \"width\": 2}, \"type\": \"scatter\", \"x\": [8, 6], \"y\": [-7, -8]}, {\"line\": {\"color\": \"green\", \"width\": 2}, \"type\": \"scatter\", \"x\": [8, 9], \"y\": [-7, -8]}, {\"line\": {\"color\": \"green\", \"width\": 2}, \"type\": \"scatter\", \"x\": [6, 5], \"y\": [-8, -9]}, {\"line\": {\"color\": \"green\", \"width\": 2}, \"type\": \"scatter\", \"x\": [6, 7], \"y\": [-8, -9]}, {\"line\": {\"color\": \"green\", \"width\": 2}, \"type\": \"scatter\", \"x\": [5, 6], \"y\": [-9, -10]}, {\"line\": {\"color\": \"green\", \"width\": 2}, \"type\": \"scatter\", \"x\": [6, 5], \"y\": [-10, -11]}, {\"line\": {\"color\": \"green\", \"width\": 2}, \"type\": \"scatter\", \"x\": [6, 7], \"y\": [-10, -11]}, {\"line\": {\"color\": \"green\", \"width\": 2}, \"type\": \"scatter\", \"x\": [7, 6], \"y\": [-11, -12]}, {\"line\": {\"color\": \"green\", \"width\": 2}, \"type\": \"scatter\", \"x\": [6, 7], \"y\": [-12, -13]}, {\"line\": {\"color\": \"green\", \"width\": 2}, \"type\": \"scatter\", \"x\": [7, 6], \"y\": [-13, -14]}, {\"line\": {\"color\": \"green\", \"width\": 2}, \"type\": \"scatter\", \"x\": [6, 7], \"y\": [-14, -15]}, {\"line\": {\"color\": \"green\", \"width\": 2}, \"type\": \"scatter\", \"x\": [9, 8], \"y\": [-8, -9]}, {\"line\": {\"color\": \"green\", \"width\": 2}, \"type\": \"scatter\", \"x\": [8, 9], \"y\": [-9, -10]}, {\"line\": {\"color\": \"green\", \"width\": 2}, \"type\": \"scatter\", \"x\": [11, 10], \"y\": [-6, -7]}, {\"line\": {\"color\": \"green\", \"width\": 2}, \"type\": \"scatter\", \"x\": [11, 12], \"y\": [-6, -7]}, {\"line\": {\"color\": \"green\", \"width\": 2}, \"type\": \"scatter\", \"x\": [12, 10], \"y\": [-7, -8]}, {\"line\": {\"color\": \"green\", \"width\": 2}, \"type\": \"scatter\", \"x\": [12, 13], \"y\": [-7, -8]}, {\"line\": {\"color\": \"green\", \"width\": 2}, \"type\": \"scatter\", \"x\": [10, 11], \"y\": [-8, -9]}, {\"line\": {\"color\": \"green\", \"width\": 2}, \"type\": \"scatter\", \"x\": [11, 10], \"y\": [-9, -10]}, {\"line\": {\"color\": \"green\", \"width\": 2}, \"type\": \"scatter\", \"x\": [10, 11], \"y\": [-10, -11]}, {\"line\": {\"color\": \"green\", \"width\": 2}, \"type\": \"scatter\", \"x\": [11, 10], \"y\": [-11, -12]}, {\"line\": {\"color\": \"green\", \"width\": 2}, \"type\": \"scatter\", \"x\": [10, 11], \"y\": [-12, -13]}, {\"line\": {\"color\": \"green\", \"width\": 2}, \"type\": \"scatter\", \"x\": [13, 12], \"y\": [-8, -9]}, {\"line\": {\"color\": \"green\", \"width\": 2}, \"type\": \"scatter\", \"x\": [12, 13], \"y\": [-9, -10]}, {\"line\": {\"color\": \"green\", \"width\": 2}, \"type\": \"scatter\", \"x\": [4, 3], \"y\": [-2, -3]}, {\"line\": {\"color\": \"green\", \"width\": 2}, \"type\": \"scatter\", \"x\": [4, 5], \"y\": [-2, -3]}, {\"line\": {\"color\": \"green\", \"width\": 2}, \"type\": \"scatter\", \"x\": [5, 6], \"y\": [-3, -4]}, {\"marker\": {\"color\": \"black\", \"size\": [10]}, \"mode\": \"markers\", \"type\": \"scatter\", \"x\": [0], \"y\": [0]}, {\"marker\": {\"color\": \"black\", \"size\": [10]}, \"mode\": \"markers\", \"type\": \"scatter\", \"x\": [-1], \"y\": [-1]}, {\"marker\": {\"color\": \"black\", \"size\": [10]}, \"mode\": \"markers\", \"type\": \"scatter\", \"x\": [1], \"y\": [-1]}, {\"marker\": {\"color\": \"black\", \"size\": [10]}, \"mode\": \"markers\", \"type\": \"scatter\", \"x\": [-3], \"y\": [-2]}, {\"marker\": {\"color\": \"black\", \"size\": [10]}, \"mode\": \"markers\", \"type\": \"scatter\", \"x\": [-7], \"y\": [-3]}, {\"marker\": {\"color\": \"black\", \"size\": [10]}, \"mode\": \"markers\", \"type\": \"scatter\", \"x\": [-9], \"y\": [-4]}, {\"marker\": {\"color\": \"black\", \"size\": [10]}, \"mode\": \"markers\", \"type\": \"scatter\", \"x\": [-10], \"y\": [-5]}, {\"marker\": {\"color\": \"black\", \"size\": [10]}, \"mode\": \"markers\", \"type\": \"scatter\", \"x\": [-14], \"y\": [-6]}, {\"marker\": {\"color\": \"black\", \"size\": [10]}, \"mode\": \"markers\", \"type\": \"scatter\", \"x\": [-16], \"y\": [-7]}, {\"marker\": {\"color\": \"black\", \"size\": [10]}, \"mode\": \"markers\", \"type\": \"scatter\", \"x\": [-15], \"y\": [-8]}, {\"marker\": {\"color\": \"black\", \"size\": [10]}, \"mode\": \"markers\", \"type\": \"scatter\", \"x\": [-13], \"y\": [-7]}, {\"marker\": {\"color\": \"black\", \"size\": [10]}, \"mode\": \"markers\", \"type\": \"scatter\", \"x\": [-14], \"y\": [-8]}, {\"marker\": {\"color\": \"black\", \"size\": [10]}, \"mode\": \"markers\", \"type\": \"scatter\", \"x\": [-13], \"y\": [-9]}, {\"marker\": {\"color\": \"black\", \"size\": [10]}, \"mode\": \"markers\", \"type\": \"scatter\", \"x\": [-7], \"y\": [-6]}, {\"marker\": {\"color\": \"black\", \"size\": [10]}, \"mode\": \"markers\", \"type\": \"scatter\", \"x\": [-10], \"y\": [-7]}, {\"marker\": {\"color\": \"black\", \"size\": [10]}, \"mode\": \"markers\", \"type\": \"scatter\", \"x\": [-11], \"y\": [-8]}, {\"marker\": {\"color\": \"black\", \"size\": [10]}, \"mode\": \"markers\", \"type\": \"scatter\", \"x\": [-12], \"y\": [-9]}, {\"marker\": {\"color\": \"black\", \"size\": [10]}, \"mode\": \"markers\", \"type\": \"scatter\", \"x\": [-11], \"y\": [-10]}, {\"marker\": {\"color\": \"black\", \"size\": [10]}, \"mode\": \"markers\", \"type\": \"scatter\", \"x\": [-12], \"y\": [-11]}, {\"marker\": {\"color\": \"black\", \"size\": [10]}, \"mode\": \"markers\", \"type\": \"scatter\", \"x\": [-11], \"y\": [-12]}, {\"marker\": {\"color\": \"black\", \"size\": [10]}, \"mode\": \"markers\", \"type\": \"scatter\", \"x\": [-9], \"y\": [-8]}, {\"marker\": {\"color\": \"black\", \"size\": [10]}, \"mode\": \"markers\", \"type\": \"scatter\", \"x\": [-8], \"y\": [-9]}, {\"marker\": {\"color\": \"black\", \"size\": [10]}, \"mode\": \"markers\", \"type\": \"scatter\", \"x\": [-5], \"y\": [-7]}, {\"marker\": {\"color\": \"black\", \"size\": [10]}, \"mode\": \"markers\", \"type\": \"scatter\", \"x\": [-6], \"y\": [-8]}, {\"marker\": {\"color\": \"black\", \"size\": [10]}, \"mode\": \"markers\", \"type\": \"scatter\", \"x\": [-7], \"y\": [-9]}, {\"marker\": {\"color\": \"black\", \"size\": [10]}, \"mode\": \"markers\", \"type\": \"scatter\", \"x\": [-6], \"y\": [-10]}, {\"marker\": {\"color\": \"black\", \"size\": [10]}, \"mode\": \"markers\", \"type\": \"scatter\", \"x\": [-5], \"y\": [-9]}, {\"marker\": {\"color\": \"black\", \"size\": [10]}, \"mode\": \"markers\", \"type\": \"scatter\", \"x\": [-4], \"y\": [-10]}, {\"marker\": {\"color\": \"black\", \"size\": [10]}, \"mode\": \"markers\", \"type\": \"scatter\", \"x\": [-4], \"y\": [-8]}, {\"marker\": {\"color\": \"black\", \"size\": [10]}, \"mode\": \"markers\", \"type\": \"scatter\", \"x\": [-8], \"y\": [-5]}, {\"marker\": {\"color\": \"black\", \"size\": [10]}, \"mode\": \"markers\", \"type\": \"scatter\", \"x\": [-6], \"y\": [-4]}, {\"marker\": {\"color\": \"black\", \"size\": [10]}, \"mode\": \"markers\", \"type\": \"scatter\", \"x\": [-7], \"y\": [-5]}, {\"marker\": {\"color\": \"black\", \"size\": [10]}, \"mode\": \"markers\", \"type\": \"scatter\", \"x\": [-5], \"y\": [-5]}, {\"marker\": {\"color\": \"black\", \"size\": [10]}, \"mode\": \"markers\", \"type\": \"scatter\", \"x\": [-4], \"y\": [-6]}, {\"marker\": {\"color\": \"black\", \"size\": [10]}, \"mode\": \"markers\", \"type\": \"scatter\", \"x\": [1], \"y\": [-3]}, {\"marker\": {\"color\": \"black\", \"size\": [10]}, \"mode\": \"markers\", \"type\": \"scatter\", \"x\": [-3], \"y\": [-4]}, {\"marker\": {\"color\": \"black\", \"size\": [10]}, \"mode\": \"markers\", \"type\": \"scatter\", \"x\": [-4], \"y\": [-5]}, {\"marker\": {\"color\": \"black\", \"size\": [10]}, \"mode\": \"markers\", \"type\": \"scatter\", \"x\": [-3], \"y\": [-6]}, {\"marker\": {\"color\": \"black\", \"size\": [10]}, \"mode\": \"markers\", \"type\": \"scatter\", \"x\": [-2], \"y\": [-5]}, {\"marker\": {\"color\": \"black\", \"size\": [10]}, \"mode\": \"markers\", \"type\": \"scatter\", \"x\": [-1], \"y\": [-6]}, {\"marker\": {\"color\": \"black\", \"size\": [10]}, \"mode\": \"markers\", \"type\": \"scatter\", \"x\": [5], \"y\": [-4]}, {\"marker\": {\"color\": \"black\", \"size\": [10]}, \"mode\": \"markers\", \"type\": \"scatter\", \"x\": [1], \"y\": [-5]}, {\"marker\": {\"color\": \"black\", \"size\": [10]}, \"mode\": \"markers\", \"type\": \"scatter\", \"x\": [0], \"y\": [-6]}, {\"marker\": {\"color\": \"black\", \"size\": [10]}, \"mode\": \"markers\", \"type\": \"scatter\", \"x\": [1], \"y\": [-7]}, {\"marker\": {\"color\": \"black\", \"size\": [10]}, \"mode\": \"markers\", \"type\": \"scatter\", \"x\": [8], \"y\": [-5]}, {\"marker\": {\"color\": \"black\", \"size\": [10]}, \"mode\": \"markers\", \"type\": \"scatter\", \"x\": [5], \"y\": [-6]}, {\"marker\": {\"color\": \"black\", \"size\": [10]}, \"mode\": \"markers\", \"type\": \"scatter\", \"x\": [2], \"y\": [-7]}, {\"marker\": {\"color\": \"black\", \"size\": [10]}, \"mode\": \"markers\", \"type\": \"scatter\", \"x\": [1], \"y\": [-8]}, {\"marker\": {\"color\": \"black\", \"size\": [10]}, \"mode\": \"markers\", \"type\": \"scatter\", \"x\": [0], \"y\": [-9]}, {\"marker\": {\"color\": \"black\", \"size\": [10]}, \"mode\": \"markers\", \"type\": \"scatter\", \"x\": [1], \"y\": [-10]}, {\"marker\": {\"color\": \"black\", \"size\": [10]}, \"mode\": \"markers\", \"type\": \"scatter\", \"x\": [2], \"y\": [-9]}, {\"marker\": {\"color\": \"black\", \"size\": [10]}, \"mode\": \"markers\", \"type\": \"scatter\", \"x\": [3], \"y\": [-10]}, {\"marker\": {\"color\": \"black\", \"size\": [10]}, \"mode\": \"markers\", \"type\": \"scatter\", \"x\": [3], \"y\": [-8]}, {\"marker\": {\"color\": \"black\", \"size\": [10]}, \"mode\": \"markers\", \"type\": \"scatter\", \"x\": [4], \"y\": [-9]}, {\"marker\": {\"color\": \"black\", \"size\": [10]}, \"mode\": \"markers\", \"type\": \"scatter\", \"x\": [8], \"y\": [-7]}, {\"marker\": {\"color\": \"black\", \"size\": [10]}, \"mode\": \"markers\", \"type\": \"scatter\", \"x\": [6], \"y\": [-8]}, {\"marker\": {\"color\": \"black\", \"size\": [10]}, \"mode\": \"markers\", \"type\": \"scatter\", \"x\": [5], \"y\": [-9]}, {\"marker\": {\"color\": \"black\", \"size\": [10]}, \"mode\": \"markers\", \"type\": \"scatter\", \"x\": [6], \"y\": [-10]}, {\"marker\": {\"color\": \"black\", \"size\": [10]}, \"mode\": \"markers\", \"type\": \"scatter\", \"x\": [5], \"y\": [-11]}, {\"marker\": {\"color\": \"black\", \"size\": [10]}, \"mode\": \"markers\", \"type\": \"scatter\", \"x\": [7], \"y\": [-11]}, {\"marker\": {\"color\": \"black\", \"size\": [10]}, \"mode\": \"markers\", \"type\": \"scatter\", \"x\": [6], \"y\": [-12]}, {\"marker\": {\"color\": \"black\", \"size\": [10]}, \"mode\": \"markers\", \"type\": \"scatter\", \"x\": [7], \"y\": [-13]}, {\"marker\": {\"color\": \"black\", \"size\": [10]}, \"mode\": \"markers\", \"type\": \"scatter\", \"x\": [6], \"y\": [-14]}, {\"marker\": {\"color\": \"black\", \"size\": [10]}, \"mode\": \"markers\", \"type\": \"scatter\", \"x\": [7], \"y\": [-15]}, {\"marker\": {\"color\": \"black\", \"size\": [10]}, \"mode\": \"markers\", \"type\": \"scatter\", \"x\": [7], \"y\": [-9]}, {\"marker\": {\"color\": \"black\", \"size\": [10]}, \"mode\": \"markers\", \"type\": \"scatter\", \"x\": [9], \"y\": [-8]}, {\"marker\": {\"color\": \"black\", \"size\": [10]}, \"mode\": \"markers\", \"type\": \"scatter\", \"x\": [8], \"y\": [-9]}, {\"marker\": {\"color\": \"black\", \"size\": [10]}, \"mode\": \"markers\", \"type\": \"scatter\", \"x\": [9], \"y\": [-10]}, {\"marker\": {\"color\": \"black\", \"size\": [10]}, \"mode\": \"markers\", \"type\": \"scatter\", \"x\": [11], \"y\": [-6]}, {\"marker\": {\"color\": \"black\", \"size\": [10]}, \"mode\": \"markers\", \"type\": \"scatter\", \"x\": [10], \"y\": [-7]}, {\"marker\": {\"color\": \"black\", \"size\": [10]}, \"mode\": \"markers\", \"type\": \"scatter\", \"x\": [12], \"y\": [-7]}, {\"marker\": {\"color\": \"black\", \"size\": [10]}, \"mode\": \"markers\", \"type\": \"scatter\", \"x\": [10], \"y\": [-8]}, {\"marker\": {\"color\": \"black\", \"size\": [10]}, \"mode\": \"markers\", \"type\": \"scatter\", \"x\": [11], \"y\": [-9]}, {\"marker\": {\"color\": \"black\", \"size\": [10]}, \"mode\": \"markers\", \"type\": \"scatter\", \"x\": [10], \"y\": [-10]}, {\"marker\": {\"color\": \"black\", \"size\": [10]}, \"mode\": \"markers\", \"type\": \"scatter\", \"x\": [11], \"y\": [-11]}, {\"marker\": {\"color\": \"black\", \"size\": [10]}, \"mode\": \"markers\", \"type\": \"scatter\", \"x\": [10], \"y\": [-12]}, {\"marker\": {\"color\": \"black\", \"size\": [10]}, \"mode\": \"markers\", \"type\": \"scatter\", \"x\": [11], \"y\": [-13]}, {\"marker\": {\"color\": \"black\", \"size\": [10]}, \"mode\": \"markers\", \"type\": \"scatter\", \"x\": [13], \"y\": [-8]}, {\"marker\": {\"color\": \"black\", \"size\": [10]}, \"mode\": \"markers\", \"type\": \"scatter\", \"x\": [12], \"y\": [-9]}, {\"marker\": {\"color\": \"black\", \"size\": [10]}, \"mode\": \"markers\", \"type\": \"scatter\", \"x\": [13], \"y\": [-10]}, {\"marker\": {\"color\": \"black\", \"size\": [10]}, \"mode\": \"markers\", \"type\": \"scatter\", \"x\": [4], \"y\": [-2]}, {\"marker\": {\"color\": \"black\", \"size\": [10]}, \"mode\": \"markers\", \"type\": \"scatter\", \"x\": [3], \"y\": [-3]}, {\"marker\": {\"color\": \"black\", \"size\": [10]}, \"mode\": \"markers\", \"type\": \"scatter\", \"x\": [5], \"y\": [-3]}, {\"marker\": {\"color\": \"black\", \"size\": [10]}, \"mode\": \"markers\", \"type\": \"scatter\", \"x\": [6], \"y\": [-4]}],\n",
              "                        {\"autosize\": true, \"height\": 500, \"margin\": {\"b\": 50, \"l\": 50, \"pad\": 4, \"r\": 50, \"t\": 50}, \"showlegend\": false, \"template\": {\"data\": {\"bar\": [{\"error_x\": {\"color\": \"#2a3f5f\"}, \"error_y\": {\"color\": \"#2a3f5f\"}, \"marker\": {\"line\": {\"color\": \"#E5ECF6\", \"width\": 0.5}}, \"type\": \"bar\"}], \"barpolar\": [{\"marker\": {\"line\": {\"color\": \"#E5ECF6\", \"width\": 0.5}}, \"type\": \"barpolar\"}], \"carpet\": [{\"aaxis\": {\"endlinecolor\": \"#2a3f5f\", \"gridcolor\": \"white\", \"linecolor\": \"white\", \"minorgridcolor\": \"white\", \"startlinecolor\": \"#2a3f5f\"}, \"baxis\": {\"endlinecolor\": \"#2a3f5f\", \"gridcolor\": \"white\", \"linecolor\": \"white\", \"minorgridcolor\": \"white\", \"startlinecolor\": \"#2a3f5f\"}, \"type\": \"carpet\"}], \"choropleth\": [{\"colorbar\": {\"outlinewidth\": 0, \"ticks\": \"\"}, \"type\": \"choropleth\"}], \"contour\": [{\"colorbar\": {\"outlinewidth\": 0, \"ticks\": \"\"}, \"colorscale\": [[0.0, \"#0d0887\"], [0.1111111111111111, \"#46039f\"], [0.2222222222222222, \"#7201a8\"], [0.3333333333333333, \"#9c179e\"], [0.4444444444444444, \"#bd3786\"], [0.5555555555555556, \"#d8576b\"], [0.6666666666666666, \"#ed7953\"], [0.7777777777777778, \"#fb9f3a\"], [0.8888888888888888, \"#fdca26\"], [1.0, \"#f0f921\"]], \"type\": \"contour\"}], \"contourcarpet\": [{\"colorbar\": {\"outlinewidth\": 0, \"ticks\": \"\"}, \"type\": \"contourcarpet\"}], \"heatmap\": [{\"colorbar\": {\"outlinewidth\": 0, \"ticks\": \"\"}, \"colorscale\": [[0.0, \"#0d0887\"], [0.1111111111111111, \"#46039f\"], [0.2222222222222222, \"#7201a8\"], [0.3333333333333333, \"#9c179e\"], [0.4444444444444444, \"#bd3786\"], [0.5555555555555556, \"#d8576b\"], [0.6666666666666666, \"#ed7953\"], [0.7777777777777778, \"#fb9f3a\"], [0.8888888888888888, \"#fdca26\"], [1.0, \"#f0f921\"]], \"type\": \"heatmap\"}], \"heatmapgl\": [{\"colorbar\": {\"outlinewidth\": 0, \"ticks\": \"\"}, \"colorscale\": [[0.0, \"#0d0887\"], [0.1111111111111111, \"#46039f\"], [0.2222222222222222, \"#7201a8\"], [0.3333333333333333, \"#9c179e\"], [0.4444444444444444, \"#bd3786\"], [0.5555555555555556, \"#d8576b\"], [0.6666666666666666, \"#ed7953\"], [0.7777777777777778, \"#fb9f3a\"], [0.8888888888888888, \"#fdca26\"], [1.0, \"#f0f921\"]], \"type\": \"heatmapgl\"}], \"histogram\": [{\"marker\": {\"colorbar\": {\"outlinewidth\": 0, \"ticks\": \"\"}}, \"type\": \"histogram\"}], \"histogram2d\": [{\"colorbar\": {\"outlinewidth\": 0, \"ticks\": \"\"}, \"colorscale\": [[0.0, \"#0d0887\"], [0.1111111111111111, \"#46039f\"], [0.2222222222222222, \"#7201a8\"], [0.3333333333333333, \"#9c179e\"], [0.4444444444444444, \"#bd3786\"], [0.5555555555555556, \"#d8576b\"], [0.6666666666666666, \"#ed7953\"], [0.7777777777777778, \"#fb9f3a\"], [0.8888888888888888, \"#fdca26\"], [1.0, \"#f0f921\"]], \"type\": \"histogram2d\"}], \"histogram2dcontour\": [{\"colorbar\": {\"outlinewidth\": 0, \"ticks\": \"\"}, \"colorscale\": [[0.0, \"#0d0887\"], [0.1111111111111111, \"#46039f\"], [0.2222222222222222, \"#7201a8\"], [0.3333333333333333, \"#9c179e\"], [0.4444444444444444, \"#bd3786\"], [0.5555555555555556, \"#d8576b\"], [0.6666666666666666, \"#ed7953\"], [0.7777777777777778, \"#fb9f3a\"], [0.8888888888888888, \"#fdca26\"], [1.0, \"#f0f921\"]], \"type\": \"histogram2dcontour\"}], \"mesh3d\": [{\"colorbar\": {\"outlinewidth\": 0, \"ticks\": \"\"}, \"type\": \"mesh3d\"}], \"parcoords\": [{\"line\": {\"colorbar\": {\"outlinewidth\": 0, \"ticks\": \"\"}}, \"type\": \"parcoords\"}], \"pie\": [{\"automargin\": true, \"type\": \"pie\"}], \"scatter\": [{\"marker\": {\"colorbar\": {\"outlinewidth\": 0, \"ticks\": \"\"}}, \"type\": \"scatter\"}], \"scatter3d\": [{\"line\": {\"colorbar\": {\"outlinewidth\": 0, \"ticks\": \"\"}}, \"marker\": {\"colorbar\": {\"outlinewidth\": 0, \"ticks\": \"\"}}, \"type\": \"scatter3d\"}], \"scattercarpet\": [{\"marker\": {\"colorbar\": {\"outlinewidth\": 0, \"ticks\": \"\"}}, \"type\": \"scattercarpet\"}], \"scattergeo\": [{\"marker\": {\"colorbar\": {\"outlinewidth\": 0, \"ticks\": \"\"}}, \"type\": \"scattergeo\"}], \"scattergl\": [{\"marker\": {\"colorbar\": {\"outlinewidth\": 0, \"ticks\": \"\"}}, \"type\": \"scattergl\"}], \"scattermapbox\": [{\"marker\": {\"colorbar\": {\"outlinewidth\": 0, \"ticks\": \"\"}}, \"type\": \"scattermapbox\"}], \"scatterpolar\": [{\"marker\": {\"colorbar\": {\"outlinewidth\": 0, \"ticks\": \"\"}}, \"type\": \"scatterpolar\"}], \"scatterpolargl\": [{\"marker\": {\"colorbar\": {\"outlinewidth\": 0, \"ticks\": \"\"}}, \"type\": \"scatterpolargl\"}], \"scatterternary\": [{\"marker\": {\"colorbar\": {\"outlinewidth\": 0, \"ticks\": \"\"}}, \"type\": \"scatterternary\"}], \"surface\": [{\"colorbar\": {\"outlinewidth\": 0, \"ticks\": \"\"}, \"colorscale\": [[0.0, \"#0d0887\"], [0.1111111111111111, \"#46039f\"], [0.2222222222222222, \"#7201a8\"], [0.3333333333333333, \"#9c179e\"], [0.4444444444444444, \"#bd3786\"], [0.5555555555555556, \"#d8576b\"], [0.6666666666666666, \"#ed7953\"], [0.7777777777777778, \"#fb9f3a\"], [0.8888888888888888, \"#fdca26\"], [1.0, \"#f0f921\"]], \"type\": \"surface\"}], \"table\": [{\"cells\": {\"fill\": {\"color\": \"#EBF0F8\"}, \"line\": {\"color\": \"white\"}}, \"header\": {\"fill\": {\"color\": \"#C8D4E3\"}, \"line\": {\"color\": \"white\"}}, \"type\": \"table\"}]}, \"layout\": {\"annotationdefaults\": {\"arrowcolor\": \"#2a3f5f\", \"arrowhead\": 0, \"arrowwidth\": 1}, \"coloraxis\": {\"colorbar\": {\"outlinewidth\": 0, \"ticks\": \"\"}}, \"colorscale\": {\"diverging\": [[0, \"#8e0152\"], [0.1, \"#c51b7d\"], [0.2, \"#de77ae\"], [0.3, \"#f1b6da\"], [0.4, \"#fde0ef\"], [0.5, \"#f7f7f7\"], [0.6, \"#e6f5d0\"], [0.7, \"#b8e186\"], [0.8, \"#7fbc41\"], [0.9, \"#4d9221\"], [1, \"#276419\"]], \"sequential\": [[0.0, \"#0d0887\"], [0.1111111111111111, \"#46039f\"], [0.2222222222222222, \"#7201a8\"], [0.3333333333333333, \"#9c179e\"], [0.4444444444444444, \"#bd3786\"], [0.5555555555555556, \"#d8576b\"], [0.6666666666666666, \"#ed7953\"], [0.7777777777777778, \"#fb9f3a\"], [0.8888888888888888, \"#fdca26\"], [1.0, \"#f0f921\"]], \"sequentialminus\": [[0.0, \"#0d0887\"], [0.1111111111111111, \"#46039f\"], [0.2222222222222222, \"#7201a8\"], [0.3333333333333333, \"#9c179e\"], [0.4444444444444444, \"#bd3786\"], [0.5555555555555556, \"#d8576b\"], [0.6666666666666666, \"#ed7953\"], [0.7777777777777778, \"#fb9f3a\"], [0.8888888888888888, \"#fdca26\"], [1.0, \"#f0f921\"]]}, \"colorway\": [\"#636efa\", \"#EF553B\", \"#00cc96\", \"#ab63fa\", \"#FFA15A\", \"#19d3f3\", \"#FF6692\", \"#B6E880\", \"#FF97FF\", \"#FECB52\"], \"font\": {\"color\": \"#2a3f5f\"}, \"geo\": {\"bgcolor\": \"white\", \"lakecolor\": \"white\", \"landcolor\": \"#E5ECF6\", \"showlakes\": true, \"showland\": true, \"subunitcolor\": \"white\"}, \"hoverlabel\": {\"align\": \"left\"}, \"hovermode\": \"closest\", \"mapbox\": {\"style\": \"light\"}, \"paper_bgcolor\": \"white\", \"plot_bgcolor\": \"#E5ECF6\", \"polar\": {\"angularaxis\": {\"gridcolor\": \"white\", \"linecolor\": \"white\", \"ticks\": \"\"}, \"bgcolor\": \"#E5ECF6\", \"radialaxis\": {\"gridcolor\": \"white\", \"linecolor\": \"white\", \"ticks\": \"\"}}, \"scene\": {\"xaxis\": {\"backgroundcolor\": \"#E5ECF6\", \"gridcolor\": \"white\", \"gridwidth\": 2, \"linecolor\": \"white\", \"showbackground\": true, \"ticks\": \"\", \"zerolinecolor\": \"white\"}, \"yaxis\": {\"backgroundcolor\": \"#E5ECF6\", \"gridcolor\": \"white\", \"gridwidth\": 2, \"linecolor\": \"white\", \"showbackground\": true, \"ticks\": \"\", \"zerolinecolor\": \"white\"}, \"zaxis\": {\"backgroundcolor\": \"#E5ECF6\", \"gridcolor\": \"white\", \"gridwidth\": 2, \"linecolor\": \"white\", \"showbackground\": true, \"ticks\": \"\", \"zerolinecolor\": \"white\"}}, \"shapedefaults\": {\"line\": {\"color\": \"#2a3f5f\"}}, \"ternary\": {\"aaxis\": {\"gridcolor\": \"white\", \"linecolor\": \"white\", \"ticks\": \"\"}, \"baxis\": {\"gridcolor\": \"white\", \"linecolor\": \"white\", \"ticks\": \"\"}, \"bgcolor\": \"#E5ECF6\", \"caxis\": {\"gridcolor\": \"white\", \"linecolor\": \"white\", \"ticks\": \"\"}}, \"title\": {\"x\": 0.05}, \"xaxis\": {\"automargin\": true, \"gridcolor\": \"white\", \"linecolor\": \"white\", \"ticks\": \"\", \"title\": {\"standoff\": 15}, \"zerolinecolor\": \"white\", \"zerolinewidth\": 2}, \"yaxis\": {\"automargin\": true, \"gridcolor\": \"white\", \"linecolor\": \"white\", \"ticks\": \"\", \"title\": {\"standoff\": 15}, \"zerolinecolor\": \"white\", \"zerolinewidth\": 2}}}, \"width\": 1000},\n",
              "                        {\"responsive\": true}\n",
              "                    ).then(function(){\n",
              "                            \n",
              "var gd = document.getElementById('ad022f7c-fbf1-45cb-8172-90bed2cd15be');\n",
              "var x = new MutationObserver(function (mutations, observer) {{\n",
              "        var display = window.getComputedStyle(gd).display;\n",
              "        if (!display || display === 'none') {{\n",
              "            console.log([gd, 'removed!']);\n",
              "            Plotly.purge(gd);\n",
              "            observer.disconnect();\n",
              "        }}\n",
              "}});\n",
              "\n",
              "// Listen for the removal of the full notebook cells\n",
              "var notebookContainer = gd.closest('#notebook-container');\n",
              "if (notebookContainer) {{\n",
              "    x.observe(notebookContainer, {childList: true});\n",
              "}}\n",
              "\n",
              "// Listen for the clearing of the current output cell\n",
              "var outputEl = gd.closest('.output');\n",
              "if (outputEl) {{\n",
              "    x.observe(outputEl, {childList: true});\n",
              "}}\n",
              "\n",
              "                        })\n",
              "                };\n",
              "                \n",
              "            </script>\n",
              "        </div>\n",
              "</body>\n",
              "</html>"
            ]
          },
          "metadata": {
            "tags": []
          }
        }
      ]
    },
    {
      "cell_type": "markdown",
      "metadata": {
        "id": "zHigmREvYDHa"
      },
      "source": [
        "Отрисовка несжатого дерева"
      ]
    },
    {
      "cell_type": "code",
      "metadata": {
        "colab": {
          "base_uri": "https://localhost:8080/",
          "height": 534
        },
        "id": "mGTlfteGWlWx",
        "outputId": "5856925a-1029-48de-82d8-9aa8272707d7"
      },
      "source": [
        "fig_2 = go.Figure()\n",
        "\n",
        "for node in graph:\n",
        "  for child in node.childs:\n",
        "    v0 = node\n",
        "    v1 = graph[child]\n",
        "    fig_2.add_trace(go.Scatter(\n",
        "        x=[v0.label, v1.label],\n",
        "        y=[-v0.hight, -v1.hight],\n",
        "        line=dict(color='green', width=2)\n",
        "    ))\n",
        "\n",
        "for node in graph:\n",
        "  fig_2.add_trace(go.Scatter(\n",
        "      x=[node.label],\n",
        "      y=[-node.hight],\n",
        "      mode='markers',\n",
        "      marker=dict(size=[10], color='black'),\n",
        "  ))\n",
        "\n",
        "fig_2.update_layout(  \n",
        "    autosize=True,\n",
        "    width=1000,\n",
        "    height=500,\n",
        "    margin=dict(l=50, r=50, b=50, t=50, pad=4),\n",
        "    showlegend = False\n",
        ")\n",
        "w = max([node.label for node in graph]) - min([node.label for node in graph])\n",
        "print(\"Ширина дерева = \", w)\n",
        "fig_2.show()"
      ],
      "execution_count": null,
      "outputs": [
        {
          "output_type": "stream",
          "text": [
            "Ширина дерева =  83\n"
          ],
          "name": "stdout"
        },
        {
          "output_type": "display_data",
          "data": {
            "text/html": [
              "<html>\n",
              "<head><meta charset=\"utf-8\" /></head>\n",
              "<body>\n",
              "    <div>\n",
              "            <script src=\"https://cdnjs.cloudflare.com/ajax/libs/mathjax/2.7.5/MathJax.js?config=TeX-AMS-MML_SVG\"></script><script type=\"text/javascript\">if (window.MathJax) {MathJax.Hub.Config({SVG: {font: \"STIX-Web\"}});}</script>\n",
              "                <script type=\"text/javascript\">window.PlotlyConfig = {MathJaxConfig: 'local'};</script>\n",
              "        <script src=\"https://cdn.plot.ly/plotly-latest.min.js\"></script>    \n",
              "            <div id=\"29721cc0-bbe3-4d71-a51f-6d9ad209d961\" class=\"plotly-graph-div\" style=\"height:500px; width:1000px;\"></div>\n",
              "            <script type=\"text/javascript\">\n",
              "                \n",
              "                    window.PLOTLYENV=window.PLOTLYENV || {};\n",
              "                    \n",
              "                if (document.getElementById(\"29721cc0-bbe3-4d71-a51f-6d9ad209d961\")) {\n",
              "                    Plotly.newPlot(\n",
              "                        '29721cc0-bbe3-4d71-a51f-6d9ad209d961',\n",
              "                        [{\"line\": {\"color\": \"green\", \"width\": 2}, \"type\": \"scatter\", \"x\": [1, 0], \"y\": [0, -1]}, {\"line\": {\"color\": \"green\", \"width\": 2}, \"type\": \"scatter\", \"x\": [1, 79], \"y\": [0, -1]}, {\"line\": {\"color\": \"green\", \"width\": 2}, \"type\": \"scatter\", \"x\": [79, 32], \"y\": [-1, -2]}, {\"line\": {\"color\": \"green\", \"width\": 2}, \"type\": \"scatter\", \"x\": [79, 81], \"y\": [-1, -2]}, {\"line\": {\"color\": \"green\", \"width\": 2}, \"type\": \"scatter\", \"x\": [32, 27], \"y\": [-2, -3]}, {\"line\": {\"color\": \"green\", \"width\": 2}, \"type\": \"scatter\", \"x\": [32, 38], \"y\": [-2, -3]}, {\"line\": {\"color\": \"green\", \"width\": 2}, \"type\": \"scatter\", \"x\": [27, 25], \"y\": [-3, -4]}, {\"line\": {\"color\": \"green\", \"width\": 2}, \"type\": \"scatter\", \"x\": [27, 29], \"y\": [-3, -4]}, {\"line\": {\"color\": \"green\", \"width\": 2}, \"type\": \"scatter\", \"x\": [25, 8], \"y\": [-4, -5]}, {\"line\": {\"color\": \"green\", \"width\": 2}, \"type\": \"scatter\", \"x\": [25, 26], \"y\": [-4, -5]}, {\"line\": {\"color\": \"green\", \"width\": 2}, \"type\": \"scatter\", \"x\": [8, 4], \"y\": [-5, -6]}, {\"line\": {\"color\": \"green\", \"width\": 2}, \"type\": \"scatter\", \"x\": [8, 17], \"y\": [-5, -6]}, {\"line\": {\"color\": \"green\", \"width\": 2}, \"type\": \"scatter\", \"x\": [4, 3], \"y\": [-6, -7]}, {\"line\": {\"color\": \"green\", \"width\": 2}, \"type\": \"scatter\", \"x\": [4, 7], \"y\": [-6, -7]}, {\"line\": {\"color\": \"green\", \"width\": 2}, \"type\": \"scatter\", \"x\": [3, 2], \"y\": [-7, -8]}, {\"line\": {\"color\": \"green\", \"width\": 2}, \"type\": \"scatter\", \"x\": [7, 6], \"y\": [-7, -8]}, {\"line\": {\"color\": \"green\", \"width\": 2}, \"type\": \"scatter\", \"x\": [6, 5], \"y\": [-8, -9]}, {\"line\": {\"color\": \"green\", \"width\": 2}, \"type\": \"scatter\", \"x\": [17, 14], \"y\": [-6, -7]}, {\"line\": {\"color\": \"green\", \"width\": 2}, \"type\": \"scatter\", \"x\": [17, 23], \"y\": [-6, -7]}, {\"line\": {\"color\": \"green\", \"width\": 2}, \"type\": \"scatter\", \"x\": [14, 13], \"y\": [-7, -8]}, {\"line\": {\"color\": \"green\", \"width\": 2}, \"type\": \"scatter\", \"x\": [14, 16], \"y\": [-7, -8]}, {\"line\": {\"color\": \"green\", \"width\": 2}, \"type\": \"scatter\", \"x\": [13, 12], \"y\": [-8, -9]}, {\"line\": {\"color\": \"green\", \"width\": 2}, \"type\": \"scatter\", \"x\": [12, 11], \"y\": [-9, -10]}, {\"line\": {\"color\": \"green\", \"width\": 2}, \"type\": \"scatter\", \"x\": [11, 10], \"y\": [-10, -11]}, {\"line\": {\"color\": \"green\", \"width\": 2}, \"type\": \"scatter\", \"x\": [10, 9], \"y\": [-11, -12]}, {\"line\": {\"color\": \"green\", \"width\": 2}, \"type\": \"scatter\", \"x\": [16, 15], \"y\": [-8, -9]}, {\"line\": {\"color\": \"green\", \"width\": 2}, \"type\": \"scatter\", \"x\": [23, 20], \"y\": [-7, -8]}, {\"line\": {\"color\": \"green\", \"width\": 2}, \"type\": \"scatter\", \"x\": [23, 24], \"y\": [-7, -8]}, {\"line\": {\"color\": \"green\", \"width\": 2}, \"type\": \"scatter\", \"x\": [20, 19], \"y\": [-8, -9]}, {\"line\": {\"color\": \"green\", \"width\": 2}, \"type\": \"scatter\", \"x\": [20, 22], \"y\": [-8, -9]}, {\"line\": {\"color\": \"green\", \"width\": 2}, \"type\": \"scatter\", \"x\": [19, 18], \"y\": [-9, -10]}, {\"line\": {\"color\": \"green\", \"width\": 2}, \"type\": \"scatter\", \"x\": [22, 21], \"y\": [-9, -10]}, {\"line\": {\"color\": \"green\", \"width\": 2}, \"type\": \"scatter\", \"x\": [29, 28], \"y\": [-4, -5]}, {\"line\": {\"color\": \"green\", \"width\": 2}, \"type\": \"scatter\", \"x\": [29, 31], \"y\": [-4, -5]}, {\"line\": {\"color\": \"green\", \"width\": 2}, \"type\": \"scatter\", \"x\": [31, 30], \"y\": [-5, -6]}, {\"line\": {\"color\": \"green\", \"width\": 2}, \"type\": \"scatter\", \"x\": [38, 35], \"y\": [-3, -4]}, {\"line\": {\"color\": \"green\", \"width\": 2}, \"type\": \"scatter\", \"x\": [38, 42], \"y\": [-3, -4]}, {\"line\": {\"color\": \"green\", \"width\": 2}, \"type\": \"scatter\", \"x\": [35, 34], \"y\": [-4, -5]}, {\"line\": {\"color\": \"green\", \"width\": 2}, \"type\": \"scatter\", \"x\": [35, 37], \"y\": [-4, -5]}, {\"line\": {\"color\": \"green\", \"width\": 2}, \"type\": \"scatter\", \"x\": [34, 33], \"y\": [-5, -6]}, {\"line\": {\"color\": \"green\", \"width\": 2}, \"type\": \"scatter\", \"x\": [37, 36], \"y\": [-5, -6]}, {\"line\": {\"color\": \"green\", \"width\": 2}, \"type\": \"scatter\", \"x\": [42, 41], \"y\": [-4, -5]}, {\"line\": {\"color\": \"green\", \"width\": 2}, \"type\": \"scatter\", \"x\": [42, 66], \"y\": [-4, -5]}, {\"line\": {\"color\": \"green\", \"width\": 2}, \"type\": \"scatter\", \"x\": [41, 40], \"y\": [-5, -6]}, {\"line\": {\"color\": \"green\", \"width\": 2}, \"type\": \"scatter\", \"x\": [40, 39], \"y\": [-6, -7]}, {\"line\": {\"color\": \"green\", \"width\": 2}, \"type\": \"scatter\", \"x\": [66, 51], \"y\": [-5, -6]}, {\"line\": {\"color\": \"green\", \"width\": 2}, \"type\": \"scatter\", \"x\": [66, 68], \"y\": [-5, -6]}, {\"line\": {\"color\": \"green\", \"width\": 2}, \"type\": \"scatter\", \"x\": [51, 48], \"y\": [-6, -7]}, {\"line\": {\"color\": \"green\", \"width\": 2}, \"type\": \"scatter\", \"x\": [51, 62], \"y\": [-6, -7]}, {\"line\": {\"color\": \"green\", \"width\": 2}, \"type\": \"scatter\", \"x\": [48, 45], \"y\": [-7, -8]}, {\"line\": {\"color\": \"green\", \"width\": 2}, \"type\": \"scatter\", \"x\": [48, 50], \"y\": [-7, -8]}, {\"line\": {\"color\": \"green\", \"width\": 2}, \"type\": \"scatter\", \"x\": [45, 44], \"y\": [-8, -9]}, {\"line\": {\"color\": \"green\", \"width\": 2}, \"type\": \"scatter\", \"x\": [45, 47], \"y\": [-8, -9]}, {\"line\": {\"color\": \"green\", \"width\": 2}, \"type\": \"scatter\", \"x\": [44, 43], \"y\": [-9, -10]}, {\"line\": {\"color\": \"green\", \"width\": 2}, \"type\": \"scatter\", \"x\": [47, 46], \"y\": [-9, -10]}, {\"line\": {\"color\": \"green\", \"width\": 2}, \"type\": \"scatter\", \"x\": [50, 49], \"y\": [-8, -9]}, {\"line\": {\"color\": \"green\", \"width\": 2}, \"type\": \"scatter\", \"x\": [62, 60], \"y\": [-7, -8]}, {\"line\": {\"color\": \"green\", \"width\": 2}, \"type\": \"scatter\", \"x\": [62, 65], \"y\": [-7, -8]}, {\"line\": {\"color\": \"green\", \"width\": 2}, \"type\": \"scatter\", \"x\": [60, 59], \"y\": [-8, -9]}, {\"line\": {\"color\": \"green\", \"width\": 2}, \"type\": \"scatter\", \"x\": [60, 61], \"y\": [-8, -9]}, {\"line\": {\"color\": \"green\", \"width\": 2}, \"type\": \"scatter\", \"x\": [59, 53], \"y\": [-9, -10]}, {\"line\": {\"color\": \"green\", \"width\": 2}, \"type\": \"scatter\", \"x\": [53, 52], \"y\": [-10, -11]}, {\"line\": {\"color\": \"green\", \"width\": 2}, \"type\": \"scatter\", \"x\": [53, 58], \"y\": [-10, -11]}, {\"line\": {\"color\": \"green\", \"width\": 2}, \"type\": \"scatter\", \"x\": [58, 57], \"y\": [-11, -12]}, {\"line\": {\"color\": \"green\", \"width\": 2}, \"type\": \"scatter\", \"x\": [57, 56], \"y\": [-12, -13]}, {\"line\": {\"color\": \"green\", \"width\": 2}, \"type\": \"scatter\", \"x\": [56, 55], \"y\": [-13, -14]}, {\"line\": {\"color\": \"green\", \"width\": 2}, \"type\": \"scatter\", \"x\": [55, 54], \"y\": [-14, -15]}, {\"line\": {\"color\": \"green\", \"width\": 2}, \"type\": \"scatter\", \"x\": [65, 64], \"y\": [-8, -9]}, {\"line\": {\"color\": \"green\", \"width\": 2}, \"type\": \"scatter\", \"x\": [64, 63], \"y\": [-9, -10]}, {\"line\": {\"color\": \"green\", \"width\": 2}, \"type\": \"scatter\", \"x\": [68, 67], \"y\": [-6, -7]}, {\"line\": {\"color\": \"green\", \"width\": 2}, \"type\": \"scatter\", \"x\": [68, 75], \"y\": [-6, -7]}, {\"line\": {\"color\": \"green\", \"width\": 2}, \"type\": \"scatter\", \"x\": [75, 74], \"y\": [-7, -8]}, {\"line\": {\"color\": \"green\", \"width\": 2}, \"type\": \"scatter\", \"x\": [75, 78], \"y\": [-7, -8]}, {\"line\": {\"color\": \"green\", \"width\": 2}, \"type\": \"scatter\", \"x\": [74, 73], \"y\": [-8, -9]}, {\"line\": {\"color\": \"green\", \"width\": 2}, \"type\": \"scatter\", \"x\": [73, 72], \"y\": [-9, -10]}, {\"line\": {\"color\": \"green\", \"width\": 2}, \"type\": \"scatter\", \"x\": [72, 71], \"y\": [-10, -11]}, {\"line\": {\"color\": \"green\", \"width\": 2}, \"type\": \"scatter\", \"x\": [71, 70], \"y\": [-11, -12]}, {\"line\": {\"color\": \"green\", \"width\": 2}, \"type\": \"scatter\", \"x\": [70, 69], \"y\": [-12, -13]}, {\"line\": {\"color\": \"green\", \"width\": 2}, \"type\": \"scatter\", \"x\": [78, 77], \"y\": [-8, -9]}, {\"line\": {\"color\": \"green\", \"width\": 2}, \"type\": \"scatter\", \"x\": [77, 76], \"y\": [-9, -10]}, {\"line\": {\"color\": \"green\", \"width\": 2}, \"type\": \"scatter\", \"x\": [81, 80], \"y\": [-2, -3]}, {\"line\": {\"color\": \"green\", \"width\": 2}, \"type\": \"scatter\", \"x\": [81, 83], \"y\": [-2, -3]}, {\"line\": {\"color\": \"green\", \"width\": 2}, \"type\": \"scatter\", \"x\": [83, 82], \"y\": [-3, -4]}, {\"marker\": {\"color\": \"black\", \"size\": [10]}, \"mode\": \"markers\", \"type\": \"scatter\", \"x\": [1], \"y\": [0]}, {\"marker\": {\"color\": \"black\", \"size\": [10]}, \"mode\": \"markers\", \"type\": \"scatter\", \"x\": [0], \"y\": [-1]}, {\"marker\": {\"color\": \"black\", \"size\": [10]}, \"mode\": \"markers\", \"type\": \"scatter\", \"x\": [79], \"y\": [-1]}, {\"marker\": {\"color\": \"black\", \"size\": [10]}, \"mode\": \"markers\", \"type\": \"scatter\", \"x\": [32], \"y\": [-2]}, {\"marker\": {\"color\": \"black\", \"size\": [10]}, \"mode\": \"markers\", \"type\": \"scatter\", \"x\": [27], \"y\": [-3]}, {\"marker\": {\"color\": \"black\", \"size\": [10]}, \"mode\": \"markers\", \"type\": \"scatter\", \"x\": [25], \"y\": [-4]}, {\"marker\": {\"color\": \"black\", \"size\": [10]}, \"mode\": \"markers\", \"type\": \"scatter\", \"x\": [8], \"y\": [-5]}, {\"marker\": {\"color\": \"black\", \"size\": [10]}, \"mode\": \"markers\", \"type\": \"scatter\", \"x\": [4], \"y\": [-6]}, {\"marker\": {\"color\": \"black\", \"size\": [10]}, \"mode\": \"markers\", \"type\": \"scatter\", \"x\": [3], \"y\": [-7]}, {\"marker\": {\"color\": \"black\", \"size\": [10]}, \"mode\": \"markers\", \"type\": \"scatter\", \"x\": [2], \"y\": [-8]}, {\"marker\": {\"color\": \"black\", \"size\": [10]}, \"mode\": \"markers\", \"type\": \"scatter\", \"x\": [7], \"y\": [-7]}, {\"marker\": {\"color\": \"black\", \"size\": [10]}, \"mode\": \"markers\", \"type\": \"scatter\", \"x\": [6], \"y\": [-8]}, {\"marker\": {\"color\": \"black\", \"size\": [10]}, \"mode\": \"markers\", \"type\": \"scatter\", \"x\": [5], \"y\": [-9]}, {\"marker\": {\"color\": \"black\", \"size\": [10]}, \"mode\": \"markers\", \"type\": \"scatter\", \"x\": [17], \"y\": [-6]}, {\"marker\": {\"color\": \"black\", \"size\": [10]}, \"mode\": \"markers\", \"type\": \"scatter\", \"x\": [14], \"y\": [-7]}, {\"marker\": {\"color\": \"black\", \"size\": [10]}, \"mode\": \"markers\", \"type\": \"scatter\", \"x\": [13], \"y\": [-8]}, {\"marker\": {\"color\": \"black\", \"size\": [10]}, \"mode\": \"markers\", \"type\": \"scatter\", \"x\": [12], \"y\": [-9]}, {\"marker\": {\"color\": \"black\", \"size\": [10]}, \"mode\": \"markers\", \"type\": \"scatter\", \"x\": [11], \"y\": [-10]}, {\"marker\": {\"color\": \"black\", \"size\": [10]}, \"mode\": \"markers\", \"type\": \"scatter\", \"x\": [10], \"y\": [-11]}, {\"marker\": {\"color\": \"black\", \"size\": [10]}, \"mode\": \"markers\", \"type\": \"scatter\", \"x\": [9], \"y\": [-12]}, {\"marker\": {\"color\": \"black\", \"size\": [10]}, \"mode\": \"markers\", \"type\": \"scatter\", \"x\": [16], \"y\": [-8]}, {\"marker\": {\"color\": \"black\", \"size\": [10]}, \"mode\": \"markers\", \"type\": \"scatter\", \"x\": [15], \"y\": [-9]}, {\"marker\": {\"color\": \"black\", \"size\": [10]}, \"mode\": \"markers\", \"type\": \"scatter\", \"x\": [23], \"y\": [-7]}, {\"marker\": {\"color\": \"black\", \"size\": [10]}, \"mode\": \"markers\", \"type\": \"scatter\", \"x\": [20], \"y\": [-8]}, {\"marker\": {\"color\": \"black\", \"size\": [10]}, \"mode\": \"markers\", \"type\": \"scatter\", \"x\": [19], \"y\": [-9]}, {\"marker\": {\"color\": \"black\", \"size\": [10]}, \"mode\": \"markers\", \"type\": \"scatter\", \"x\": [18], \"y\": [-10]}, {\"marker\": {\"color\": \"black\", \"size\": [10]}, \"mode\": \"markers\", \"type\": \"scatter\", \"x\": [22], \"y\": [-9]}, {\"marker\": {\"color\": \"black\", \"size\": [10]}, \"mode\": \"markers\", \"type\": \"scatter\", \"x\": [21], \"y\": [-10]}, {\"marker\": {\"color\": \"black\", \"size\": [10]}, \"mode\": \"markers\", \"type\": \"scatter\", \"x\": [24], \"y\": [-8]}, {\"marker\": {\"color\": \"black\", \"size\": [10]}, \"mode\": \"markers\", \"type\": \"scatter\", \"x\": [26], \"y\": [-5]}, {\"marker\": {\"color\": \"black\", \"size\": [10]}, \"mode\": \"markers\", \"type\": \"scatter\", \"x\": [29], \"y\": [-4]}, {\"marker\": {\"color\": \"black\", \"size\": [10]}, \"mode\": \"markers\", \"type\": \"scatter\", \"x\": [28], \"y\": [-5]}, {\"marker\": {\"color\": \"black\", \"size\": [10]}, \"mode\": \"markers\", \"type\": \"scatter\", \"x\": [31], \"y\": [-5]}, {\"marker\": {\"color\": \"black\", \"size\": [10]}, \"mode\": \"markers\", \"type\": \"scatter\", \"x\": [30], \"y\": [-6]}, {\"marker\": {\"color\": \"black\", \"size\": [10]}, \"mode\": \"markers\", \"type\": \"scatter\", \"x\": [38], \"y\": [-3]}, {\"marker\": {\"color\": \"black\", \"size\": [10]}, \"mode\": \"markers\", \"type\": \"scatter\", \"x\": [35], \"y\": [-4]}, {\"marker\": {\"color\": \"black\", \"size\": [10]}, \"mode\": \"markers\", \"type\": \"scatter\", \"x\": [34], \"y\": [-5]}, {\"marker\": {\"color\": \"black\", \"size\": [10]}, \"mode\": \"markers\", \"type\": \"scatter\", \"x\": [33], \"y\": [-6]}, {\"marker\": {\"color\": \"black\", \"size\": [10]}, \"mode\": \"markers\", \"type\": \"scatter\", \"x\": [37], \"y\": [-5]}, {\"marker\": {\"color\": \"black\", \"size\": [10]}, \"mode\": \"markers\", \"type\": \"scatter\", \"x\": [36], \"y\": [-6]}, {\"marker\": {\"color\": \"black\", \"size\": [10]}, \"mode\": \"markers\", \"type\": \"scatter\", \"x\": [42], \"y\": [-4]}, {\"marker\": {\"color\": \"black\", \"size\": [10]}, \"mode\": \"markers\", \"type\": \"scatter\", \"x\": [41], \"y\": [-5]}, {\"marker\": {\"color\": \"black\", \"size\": [10]}, \"mode\": \"markers\", \"type\": \"scatter\", \"x\": [40], \"y\": [-6]}, {\"marker\": {\"color\": \"black\", \"size\": [10]}, \"mode\": \"markers\", \"type\": \"scatter\", \"x\": [39], \"y\": [-7]}, {\"marker\": {\"color\": \"black\", \"size\": [10]}, \"mode\": \"markers\", \"type\": \"scatter\", \"x\": [66], \"y\": [-5]}, {\"marker\": {\"color\": \"black\", \"size\": [10]}, \"mode\": \"markers\", \"type\": \"scatter\", \"x\": [51], \"y\": [-6]}, {\"marker\": {\"color\": \"black\", \"size\": [10]}, \"mode\": \"markers\", \"type\": \"scatter\", \"x\": [48], \"y\": [-7]}, {\"marker\": {\"color\": \"black\", \"size\": [10]}, \"mode\": \"markers\", \"type\": \"scatter\", \"x\": [45], \"y\": [-8]}, {\"marker\": {\"color\": \"black\", \"size\": [10]}, \"mode\": \"markers\", \"type\": \"scatter\", \"x\": [44], \"y\": [-9]}, {\"marker\": {\"color\": \"black\", \"size\": [10]}, \"mode\": \"markers\", \"type\": \"scatter\", \"x\": [43], \"y\": [-10]}, {\"marker\": {\"color\": \"black\", \"size\": [10]}, \"mode\": \"markers\", \"type\": \"scatter\", \"x\": [47], \"y\": [-9]}, {\"marker\": {\"color\": \"black\", \"size\": [10]}, \"mode\": \"markers\", \"type\": \"scatter\", \"x\": [46], \"y\": [-10]}, {\"marker\": {\"color\": \"black\", \"size\": [10]}, \"mode\": \"markers\", \"type\": \"scatter\", \"x\": [50], \"y\": [-8]}, {\"marker\": {\"color\": \"black\", \"size\": [10]}, \"mode\": \"markers\", \"type\": \"scatter\", \"x\": [49], \"y\": [-9]}, {\"marker\": {\"color\": \"black\", \"size\": [10]}, \"mode\": \"markers\", \"type\": \"scatter\", \"x\": [62], \"y\": [-7]}, {\"marker\": {\"color\": \"black\", \"size\": [10]}, \"mode\": \"markers\", \"type\": \"scatter\", \"x\": [60], \"y\": [-8]}, {\"marker\": {\"color\": \"black\", \"size\": [10]}, \"mode\": \"markers\", \"type\": \"scatter\", \"x\": [59], \"y\": [-9]}, {\"marker\": {\"color\": \"black\", \"size\": [10]}, \"mode\": \"markers\", \"type\": \"scatter\", \"x\": [53], \"y\": [-10]}, {\"marker\": {\"color\": \"black\", \"size\": [10]}, \"mode\": \"markers\", \"type\": \"scatter\", \"x\": [52], \"y\": [-11]}, {\"marker\": {\"color\": \"black\", \"size\": [10]}, \"mode\": \"markers\", \"type\": \"scatter\", \"x\": [58], \"y\": [-11]}, {\"marker\": {\"color\": \"black\", \"size\": [10]}, \"mode\": \"markers\", \"type\": \"scatter\", \"x\": [57], \"y\": [-12]}, {\"marker\": {\"color\": \"black\", \"size\": [10]}, \"mode\": \"markers\", \"type\": \"scatter\", \"x\": [56], \"y\": [-13]}, {\"marker\": {\"color\": \"black\", \"size\": [10]}, \"mode\": \"markers\", \"type\": \"scatter\", \"x\": [55], \"y\": [-14]}, {\"marker\": {\"color\": \"black\", \"size\": [10]}, \"mode\": \"markers\", \"type\": \"scatter\", \"x\": [54], \"y\": [-15]}, {\"marker\": {\"color\": \"black\", \"size\": [10]}, \"mode\": \"markers\", \"type\": \"scatter\", \"x\": [61], \"y\": [-9]}, {\"marker\": {\"color\": \"black\", \"size\": [10]}, \"mode\": \"markers\", \"type\": \"scatter\", \"x\": [65], \"y\": [-8]}, {\"marker\": {\"color\": \"black\", \"size\": [10]}, \"mode\": \"markers\", \"type\": \"scatter\", \"x\": [64], \"y\": [-9]}, {\"marker\": {\"color\": \"black\", \"size\": [10]}, \"mode\": \"markers\", \"type\": \"scatter\", \"x\": [63], \"y\": [-10]}, {\"marker\": {\"color\": \"black\", \"size\": [10]}, \"mode\": \"markers\", \"type\": \"scatter\", \"x\": [68], \"y\": [-6]}, {\"marker\": {\"color\": \"black\", \"size\": [10]}, \"mode\": \"markers\", \"type\": \"scatter\", \"x\": [67], \"y\": [-7]}, {\"marker\": {\"color\": \"black\", \"size\": [10]}, \"mode\": \"markers\", \"type\": \"scatter\", \"x\": [75], \"y\": [-7]}, {\"marker\": {\"color\": \"black\", \"size\": [10]}, \"mode\": \"markers\", \"type\": \"scatter\", \"x\": [74], \"y\": [-8]}, {\"marker\": {\"color\": \"black\", \"size\": [10]}, \"mode\": \"markers\", \"type\": \"scatter\", \"x\": [73], \"y\": [-9]}, {\"marker\": {\"color\": \"black\", \"size\": [10]}, \"mode\": \"markers\", \"type\": \"scatter\", \"x\": [72], \"y\": [-10]}, {\"marker\": {\"color\": \"black\", \"size\": [10]}, \"mode\": \"markers\", \"type\": \"scatter\", \"x\": [71], \"y\": [-11]}, {\"marker\": {\"color\": \"black\", \"size\": [10]}, \"mode\": \"markers\", \"type\": \"scatter\", \"x\": [70], \"y\": [-12]}, {\"marker\": {\"color\": \"black\", \"size\": [10]}, \"mode\": \"markers\", \"type\": \"scatter\", \"x\": [69], \"y\": [-13]}, {\"marker\": {\"color\": \"black\", \"size\": [10]}, \"mode\": \"markers\", \"type\": \"scatter\", \"x\": [78], \"y\": [-8]}, {\"marker\": {\"color\": \"black\", \"size\": [10]}, \"mode\": \"markers\", \"type\": \"scatter\", \"x\": [77], \"y\": [-9]}, {\"marker\": {\"color\": \"black\", \"size\": [10]}, \"mode\": \"markers\", \"type\": \"scatter\", \"x\": [76], \"y\": [-10]}, {\"marker\": {\"color\": \"black\", \"size\": [10]}, \"mode\": \"markers\", \"type\": \"scatter\", \"x\": [81], \"y\": [-2]}, {\"marker\": {\"color\": \"black\", \"size\": [10]}, \"mode\": \"markers\", \"type\": \"scatter\", \"x\": [80], \"y\": [-3]}, {\"marker\": {\"color\": \"black\", \"size\": [10]}, \"mode\": \"markers\", \"type\": \"scatter\", \"x\": [83], \"y\": [-3]}, {\"marker\": {\"color\": \"black\", \"size\": [10]}, \"mode\": \"markers\", \"type\": \"scatter\", \"x\": [82], \"y\": [-4]}],\n",
              "                        {\"autosize\": true, \"height\": 500, \"margin\": {\"b\": 50, \"l\": 50, \"pad\": 4, \"r\": 50, \"t\": 50}, \"showlegend\": false, \"template\": {\"data\": {\"bar\": [{\"error_x\": {\"color\": \"#2a3f5f\"}, \"error_y\": {\"color\": \"#2a3f5f\"}, \"marker\": {\"line\": {\"color\": \"#E5ECF6\", \"width\": 0.5}}, \"type\": \"bar\"}], \"barpolar\": [{\"marker\": {\"line\": {\"color\": \"#E5ECF6\", \"width\": 0.5}}, \"type\": \"barpolar\"}], \"carpet\": [{\"aaxis\": {\"endlinecolor\": \"#2a3f5f\", \"gridcolor\": \"white\", \"linecolor\": \"white\", \"minorgridcolor\": \"white\", \"startlinecolor\": \"#2a3f5f\"}, \"baxis\": {\"endlinecolor\": \"#2a3f5f\", \"gridcolor\": \"white\", \"linecolor\": \"white\", \"minorgridcolor\": \"white\", \"startlinecolor\": \"#2a3f5f\"}, \"type\": \"carpet\"}], \"choropleth\": [{\"colorbar\": {\"outlinewidth\": 0, \"ticks\": \"\"}, \"type\": \"choropleth\"}], \"contour\": [{\"colorbar\": {\"outlinewidth\": 0, \"ticks\": \"\"}, \"colorscale\": [[0.0, \"#0d0887\"], [0.1111111111111111, \"#46039f\"], [0.2222222222222222, \"#7201a8\"], [0.3333333333333333, \"#9c179e\"], [0.4444444444444444, \"#bd3786\"], [0.5555555555555556, \"#d8576b\"], [0.6666666666666666, \"#ed7953\"], [0.7777777777777778, \"#fb9f3a\"], [0.8888888888888888, \"#fdca26\"], [1.0, \"#f0f921\"]], \"type\": \"contour\"}], \"contourcarpet\": [{\"colorbar\": {\"outlinewidth\": 0, \"ticks\": \"\"}, \"type\": \"contourcarpet\"}], \"heatmap\": [{\"colorbar\": {\"outlinewidth\": 0, \"ticks\": \"\"}, \"colorscale\": [[0.0, \"#0d0887\"], [0.1111111111111111, \"#46039f\"], [0.2222222222222222, \"#7201a8\"], [0.3333333333333333, \"#9c179e\"], [0.4444444444444444, \"#bd3786\"], [0.5555555555555556, \"#d8576b\"], [0.6666666666666666, \"#ed7953\"], [0.7777777777777778, \"#fb9f3a\"], [0.8888888888888888, \"#fdca26\"], [1.0, \"#f0f921\"]], \"type\": \"heatmap\"}], \"heatmapgl\": [{\"colorbar\": {\"outlinewidth\": 0, \"ticks\": \"\"}, \"colorscale\": [[0.0, \"#0d0887\"], [0.1111111111111111, \"#46039f\"], [0.2222222222222222, \"#7201a8\"], [0.3333333333333333, \"#9c179e\"], [0.4444444444444444, \"#bd3786\"], [0.5555555555555556, \"#d8576b\"], [0.6666666666666666, \"#ed7953\"], [0.7777777777777778, \"#fb9f3a\"], [0.8888888888888888, \"#fdca26\"], [1.0, \"#f0f921\"]], \"type\": \"heatmapgl\"}], \"histogram\": [{\"marker\": {\"colorbar\": {\"outlinewidth\": 0, \"ticks\": \"\"}}, \"type\": \"histogram\"}], \"histogram2d\": [{\"colorbar\": {\"outlinewidth\": 0, \"ticks\": \"\"}, \"colorscale\": [[0.0, \"#0d0887\"], [0.1111111111111111, \"#46039f\"], [0.2222222222222222, \"#7201a8\"], [0.3333333333333333, \"#9c179e\"], [0.4444444444444444, \"#bd3786\"], [0.5555555555555556, \"#d8576b\"], [0.6666666666666666, \"#ed7953\"], [0.7777777777777778, \"#fb9f3a\"], [0.8888888888888888, \"#fdca26\"], [1.0, \"#f0f921\"]], \"type\": \"histogram2d\"}], \"histogram2dcontour\": [{\"colorbar\": {\"outlinewidth\": 0, \"ticks\": \"\"}, \"colorscale\": [[0.0, \"#0d0887\"], [0.1111111111111111, \"#46039f\"], [0.2222222222222222, \"#7201a8\"], [0.3333333333333333, \"#9c179e\"], [0.4444444444444444, \"#bd3786\"], [0.5555555555555556, \"#d8576b\"], [0.6666666666666666, \"#ed7953\"], [0.7777777777777778, \"#fb9f3a\"], [0.8888888888888888, \"#fdca26\"], [1.0, \"#f0f921\"]], \"type\": \"histogram2dcontour\"}], \"mesh3d\": [{\"colorbar\": {\"outlinewidth\": 0, \"ticks\": \"\"}, \"type\": \"mesh3d\"}], \"parcoords\": [{\"line\": {\"colorbar\": {\"outlinewidth\": 0, \"ticks\": \"\"}}, \"type\": \"parcoords\"}], \"pie\": [{\"automargin\": true, \"type\": \"pie\"}], \"scatter\": [{\"marker\": {\"colorbar\": {\"outlinewidth\": 0, \"ticks\": \"\"}}, \"type\": \"scatter\"}], \"scatter3d\": [{\"line\": {\"colorbar\": {\"outlinewidth\": 0, \"ticks\": \"\"}}, \"marker\": {\"colorbar\": {\"outlinewidth\": 0, \"ticks\": \"\"}}, \"type\": \"scatter3d\"}], \"scattercarpet\": [{\"marker\": {\"colorbar\": {\"outlinewidth\": 0, \"ticks\": \"\"}}, \"type\": \"scattercarpet\"}], \"scattergeo\": [{\"marker\": {\"colorbar\": {\"outlinewidth\": 0, \"ticks\": \"\"}}, \"type\": \"scattergeo\"}], \"scattergl\": [{\"marker\": {\"colorbar\": {\"outlinewidth\": 0, \"ticks\": \"\"}}, \"type\": \"scattergl\"}], \"scattermapbox\": [{\"marker\": {\"colorbar\": {\"outlinewidth\": 0, \"ticks\": \"\"}}, \"type\": \"scattermapbox\"}], \"scatterpolar\": [{\"marker\": {\"colorbar\": {\"outlinewidth\": 0, \"ticks\": \"\"}}, \"type\": \"scatterpolar\"}], \"scatterpolargl\": [{\"marker\": {\"colorbar\": {\"outlinewidth\": 0, \"ticks\": \"\"}}, \"type\": \"scatterpolargl\"}], \"scatterternary\": [{\"marker\": {\"colorbar\": {\"outlinewidth\": 0, \"ticks\": \"\"}}, \"type\": \"scatterternary\"}], \"surface\": [{\"colorbar\": {\"outlinewidth\": 0, \"ticks\": \"\"}, \"colorscale\": [[0.0, \"#0d0887\"], [0.1111111111111111, \"#46039f\"], [0.2222222222222222, \"#7201a8\"], [0.3333333333333333, \"#9c179e\"], [0.4444444444444444, \"#bd3786\"], [0.5555555555555556, \"#d8576b\"], [0.6666666666666666, \"#ed7953\"], [0.7777777777777778, \"#fb9f3a\"], [0.8888888888888888, \"#fdca26\"], [1.0, \"#f0f921\"]], \"type\": \"surface\"}], \"table\": [{\"cells\": {\"fill\": {\"color\": \"#EBF0F8\"}, \"line\": {\"color\": \"white\"}}, \"header\": {\"fill\": {\"color\": \"#C8D4E3\"}, \"line\": {\"color\": \"white\"}}, \"type\": \"table\"}]}, \"layout\": {\"annotationdefaults\": {\"arrowcolor\": \"#2a3f5f\", \"arrowhead\": 0, \"arrowwidth\": 1}, \"coloraxis\": {\"colorbar\": {\"outlinewidth\": 0, \"ticks\": \"\"}}, \"colorscale\": {\"diverging\": [[0, \"#8e0152\"], [0.1, \"#c51b7d\"], [0.2, \"#de77ae\"], [0.3, \"#f1b6da\"], [0.4, \"#fde0ef\"], [0.5, \"#f7f7f7\"], [0.6, \"#e6f5d0\"], [0.7, \"#b8e186\"], [0.8, \"#7fbc41\"], [0.9, \"#4d9221\"], [1, \"#276419\"]], \"sequential\": [[0.0, \"#0d0887\"], [0.1111111111111111, \"#46039f\"], [0.2222222222222222, \"#7201a8\"], [0.3333333333333333, \"#9c179e\"], [0.4444444444444444, \"#bd3786\"], [0.5555555555555556, \"#d8576b\"], [0.6666666666666666, \"#ed7953\"], [0.7777777777777778, \"#fb9f3a\"], [0.8888888888888888, \"#fdca26\"], [1.0, \"#f0f921\"]], \"sequentialminus\": [[0.0, \"#0d0887\"], [0.1111111111111111, \"#46039f\"], [0.2222222222222222, \"#7201a8\"], [0.3333333333333333, \"#9c179e\"], [0.4444444444444444, \"#bd3786\"], [0.5555555555555556, \"#d8576b\"], [0.6666666666666666, \"#ed7953\"], [0.7777777777777778, \"#fb9f3a\"], [0.8888888888888888, \"#fdca26\"], [1.0, \"#f0f921\"]]}, \"colorway\": [\"#636efa\", \"#EF553B\", \"#00cc96\", \"#ab63fa\", \"#FFA15A\", \"#19d3f3\", \"#FF6692\", \"#B6E880\", \"#FF97FF\", \"#FECB52\"], \"font\": {\"color\": \"#2a3f5f\"}, \"geo\": {\"bgcolor\": \"white\", \"lakecolor\": \"white\", \"landcolor\": \"#E5ECF6\", \"showlakes\": true, \"showland\": true, \"subunitcolor\": \"white\"}, \"hoverlabel\": {\"align\": \"left\"}, \"hovermode\": \"closest\", \"mapbox\": {\"style\": \"light\"}, \"paper_bgcolor\": \"white\", \"plot_bgcolor\": \"#E5ECF6\", \"polar\": {\"angularaxis\": {\"gridcolor\": \"white\", \"linecolor\": \"white\", \"ticks\": \"\"}, \"bgcolor\": \"#E5ECF6\", \"radialaxis\": {\"gridcolor\": \"white\", \"linecolor\": \"white\", \"ticks\": \"\"}}, \"scene\": {\"xaxis\": {\"backgroundcolor\": \"#E5ECF6\", \"gridcolor\": \"white\", \"gridwidth\": 2, \"linecolor\": \"white\", \"showbackground\": true, \"ticks\": \"\", \"zerolinecolor\": \"white\"}, \"yaxis\": {\"backgroundcolor\": \"#E5ECF6\", \"gridcolor\": \"white\", \"gridwidth\": 2, \"linecolor\": \"white\", \"showbackground\": true, \"ticks\": \"\", \"zerolinecolor\": \"white\"}, \"zaxis\": {\"backgroundcolor\": \"#E5ECF6\", \"gridcolor\": \"white\", \"gridwidth\": 2, \"linecolor\": \"white\", \"showbackground\": true, \"ticks\": \"\", \"zerolinecolor\": \"white\"}}, \"shapedefaults\": {\"line\": {\"color\": \"#2a3f5f\"}}, \"ternary\": {\"aaxis\": {\"gridcolor\": \"white\", \"linecolor\": \"white\", \"ticks\": \"\"}, \"baxis\": {\"gridcolor\": \"white\", \"linecolor\": \"white\", \"ticks\": \"\"}, \"bgcolor\": \"#E5ECF6\", \"caxis\": {\"gridcolor\": \"white\", \"linecolor\": \"white\", \"ticks\": \"\"}}, \"title\": {\"x\": 0.05}, \"xaxis\": {\"automargin\": true, \"gridcolor\": \"white\", \"linecolor\": \"white\", \"ticks\": \"\", \"title\": {\"standoff\": 15}, \"zerolinecolor\": \"white\", \"zerolinewidth\": 2}, \"yaxis\": {\"automargin\": true, \"gridcolor\": \"white\", \"linecolor\": \"white\", \"ticks\": \"\", \"title\": {\"standoff\": 15}, \"zerolinecolor\": \"white\", \"zerolinewidth\": 2}}}, \"width\": 1000},\n",
              "                        {\"responsive\": true}\n",
              "                    ).then(function(){\n",
              "                            \n",
              "var gd = document.getElementById('29721cc0-bbe3-4d71-a51f-6d9ad209d961');\n",
              "var x = new MutationObserver(function (mutations, observer) {{\n",
              "        var display = window.getComputedStyle(gd).display;\n",
              "        if (!display || display === 'none') {{\n",
              "            console.log([gd, 'removed!']);\n",
              "            Plotly.purge(gd);\n",
              "            observer.disconnect();\n",
              "        }}\n",
              "}});\n",
              "\n",
              "// Listen for the removal of the full notebook cells\n",
              "var notebookContainer = gd.closest('#notebook-container');\n",
              "if (notebookContainer) {{\n",
              "    x.observe(notebookContainer, {childList: true});\n",
              "}}\n",
              "\n",
              "// Listen for the clearing of the current output cell\n",
              "var outputEl = gd.closest('.output');\n",
              "if (outputEl) {{\n",
              "    x.observe(outputEl, {childList: true});\n",
              "}}\n",
              "\n",
              "                        })\n",
              "                };\n",
              "                \n",
              "            </script>\n",
              "        </div>\n",
              "</body>\n",
              "</html>"
            ]
          },
          "metadata": {
            "tags": []
          }
        }
      ]
    }
  ]
}